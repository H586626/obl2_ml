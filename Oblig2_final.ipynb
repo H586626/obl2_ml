{
 "cells": [
  {
   "cell_type": "markdown",
   "id": "13c354c9-5df4-4493-9da2-7d53d5fd6035",
   "metadata": {},
   "source": [
    "# Box Office Prediction"
   ]
  },
  {
   "cell_type": "markdown",
   "id": "ff4744e5-e6f3-4668-b7a8-4fc00e8a349c",
   "metadata": {},
   "source": [
    "Denne oppgaven skal i all hovedsak forutse omsetning til en film når den lanseres. Kalkulasjonene baseres på data som kommer fra TMDB. Det er ulike attributter å ta hensyn til når det kommer til å forutse hvor mye omsetning en filmproduksjon kommer til å ha, og det er ved å ta et dypdypp i disse faktorene, vi håper å ende opp med en god kalkulasjon."
   ]
  },
  {
   "cell_type": "markdown",
   "id": "bba01357-1d6b-44cc-8d65-2eed6540f1c3",
   "metadata": {},
   "source": [
    "### Importerer nødvendige libraries"
   ]
  },
  {
   "cell_type": "code",
   "execution_count": 802,
   "id": "08c61976-cef4-4e3d-bbba-c6835e7e0be1",
   "metadata": {},
   "outputs": [
    {
     "name": "stdout",
     "output_type": "stream",
     "text": [
      "['sample_submission.csv', 'test.csv', 'train.csv']\n"
     ]
    }
   ],
   "source": [
    "import pandas as pd\n",
    "import numpy as np\n",
    "\n",
    "# for visualizations\n",
    "import matplotlib.pyplot as plt\n",
    "import seaborn as sns\n",
    "\n",
    "%matplotlib inline\n",
    "plt.style.use('dark_background')\n",
    "\n",
    "from sklearn.preprocessing import MinMaxScaler\n",
    "from sklearn.model_selection import KFold\n",
    "from sklearn.model_selection import cross_val_score\n",
    "from collections import OrderedDict\n",
    "\n",
    "# data\n",
    "import os\n",
    "print(os.listdir(\"data2\"))\n",
    "\n",
    "# Importerer warnings slik at vi kan ignorere en advarsel som ikke har betydning for denne oppgaven\n",
    "import warnings\n",
    "warnings.simplefilter(action=\"ignore\", category=FutureWarning)"
   ]
  },
  {
   "cell_type": "code",
   "execution_count": 803,
   "id": "33c2a854-7292-415e-bfac-aae099e9768c",
   "metadata": {},
   "outputs": [],
   "source": [
    "#Reads in the csv-files and creates a dataframe using pandas\n",
    "\n",
    "train = pd.read_csv('data2/train.csv')\n",
    "test = pd.read_csv('data2/test.csv')\n",
    "sampleSubmission = pd.read_csv('data2/sample_submission.csv')"
   ]
  },
  {
   "cell_type": "code",
   "execution_count": 804,
   "id": "66229772-06d0-4ad3-bbf9-0be3bf424fbf",
   "metadata": {},
   "outputs": [
    {
     "data": {
      "text/html": [
       "<div>\n",
       "<style scoped>\n",
       "    .dataframe tbody tr th:only-of-type {\n",
       "        vertical-align: middle;\n",
       "    }\n",
       "\n",
       "    .dataframe tbody tr th {\n",
       "        vertical-align: top;\n",
       "    }\n",
       "\n",
       "    .dataframe thead th {\n",
       "        text-align: right;\n",
       "    }\n",
       "</style>\n",
       "<table border=\"1\" class=\"dataframe\">\n",
       "  <thead>\n",
       "    <tr style=\"text-align: right;\">\n",
       "      <th></th>\n",
       "      <th>id</th>\n",
       "      <th>belongs_to_collection</th>\n",
       "      <th>budget</th>\n",
       "      <th>genres</th>\n",
       "      <th>homepage</th>\n",
       "      <th>imdb_id</th>\n",
       "      <th>original_language</th>\n",
       "      <th>original_title</th>\n",
       "      <th>overview</th>\n",
       "      <th>popularity</th>\n",
       "      <th>...</th>\n",
       "      <th>release_date</th>\n",
       "      <th>runtime</th>\n",
       "      <th>spoken_languages</th>\n",
       "      <th>status</th>\n",
       "      <th>tagline</th>\n",
       "      <th>title</th>\n",
       "      <th>Keywords</th>\n",
       "      <th>cast</th>\n",
       "      <th>crew</th>\n",
       "      <th>revenue</th>\n",
       "    </tr>\n",
       "  </thead>\n",
       "  <tbody>\n",
       "    <tr>\n",
       "      <th>0</th>\n",
       "      <td>1</td>\n",
       "      <td>[{'id': 313576, 'name': 'Hot Tub Time Machine ...</td>\n",
       "      <td>14000000</td>\n",
       "      <td>[{'id': 35, 'name': 'Comedy'}]</td>\n",
       "      <td>NaN</td>\n",
       "      <td>tt2637294</td>\n",
       "      <td>en</td>\n",
       "      <td>Hot Tub Time Machine 2</td>\n",
       "      <td>When Lou, who has become the \"father of the In...</td>\n",
       "      <td>6.575393</td>\n",
       "      <td>...</td>\n",
       "      <td>2/20/15</td>\n",
       "      <td>93.0</td>\n",
       "      <td>[{'iso_639_1': 'en', 'name': 'English'}]</td>\n",
       "      <td>Released</td>\n",
       "      <td>The Laws of Space and Time are About to be Vio...</td>\n",
       "      <td>Hot Tub Time Machine 2</td>\n",
       "      <td>[{'id': 4379, 'name': 'time travel'}, {'id': 9...</td>\n",
       "      <td>[{'cast_id': 4, 'character': 'Lou', 'credit_id...</td>\n",
       "      <td>[{'credit_id': '59ac067c92514107af02c8c8', 'de...</td>\n",
       "      <td>12314651</td>\n",
       "    </tr>\n",
       "    <tr>\n",
       "      <th>1</th>\n",
       "      <td>2</td>\n",
       "      <td>[{'id': 107674, 'name': 'The Princess Diaries ...</td>\n",
       "      <td>40000000</td>\n",
       "      <td>[{'id': 35, 'name': 'Comedy'}, {'id': 18, 'nam...</td>\n",
       "      <td>NaN</td>\n",
       "      <td>tt0368933</td>\n",
       "      <td>en</td>\n",
       "      <td>The Princess Diaries 2: Royal Engagement</td>\n",
       "      <td>Mia Thermopolis is now a college graduate and ...</td>\n",
       "      <td>8.248895</td>\n",
       "      <td>...</td>\n",
       "      <td>8/6/04</td>\n",
       "      <td>113.0</td>\n",
       "      <td>[{'iso_639_1': 'en', 'name': 'English'}]</td>\n",
       "      <td>Released</td>\n",
       "      <td>It can take a lifetime to find true love; she'...</td>\n",
       "      <td>The Princess Diaries 2: Royal Engagement</td>\n",
       "      <td>[{'id': 2505, 'name': 'coronation'}, {'id': 42...</td>\n",
       "      <td>[{'cast_id': 1, 'character': 'Mia Thermopolis'...</td>\n",
       "      <td>[{'credit_id': '52fe43fe9251416c7502563d', 'de...</td>\n",
       "      <td>95149435</td>\n",
       "    </tr>\n",
       "    <tr>\n",
       "      <th>2</th>\n",
       "      <td>3</td>\n",
       "      <td>NaN</td>\n",
       "      <td>3300000</td>\n",
       "      <td>[{'id': 18, 'name': 'Drama'}]</td>\n",
       "      <td>http://sonyclassics.com/whiplash/</td>\n",
       "      <td>tt2582802</td>\n",
       "      <td>en</td>\n",
       "      <td>Whiplash</td>\n",
       "      <td>Under the direction of a ruthless instructor, ...</td>\n",
       "      <td>64.299990</td>\n",
       "      <td>...</td>\n",
       "      <td>10/10/14</td>\n",
       "      <td>105.0</td>\n",
       "      <td>[{'iso_639_1': 'en', 'name': 'English'}]</td>\n",
       "      <td>Released</td>\n",
       "      <td>The road to greatness can take you to the edge.</td>\n",
       "      <td>Whiplash</td>\n",
       "      <td>[{'id': 1416, 'name': 'jazz'}, {'id': 1523, 'n...</td>\n",
       "      <td>[{'cast_id': 5, 'character': 'Andrew Neimann',...</td>\n",
       "      <td>[{'credit_id': '54d5356ec3a3683ba0000039', 'de...</td>\n",
       "      <td>13092000</td>\n",
       "    </tr>\n",
       "    <tr>\n",
       "      <th>3</th>\n",
       "      <td>4</td>\n",
       "      <td>NaN</td>\n",
       "      <td>1200000</td>\n",
       "      <td>[{'id': 53, 'name': 'Thriller'}, {'id': 18, 'n...</td>\n",
       "      <td>http://kahaanithefilm.com/</td>\n",
       "      <td>tt1821480</td>\n",
       "      <td>hi</td>\n",
       "      <td>Kahaani</td>\n",
       "      <td>Vidya Bagchi (Vidya Balan) arrives in Kolkata ...</td>\n",
       "      <td>3.174936</td>\n",
       "      <td>...</td>\n",
       "      <td>3/9/12</td>\n",
       "      <td>122.0</td>\n",
       "      <td>[{'iso_639_1': 'en', 'name': 'English'}, {'iso...</td>\n",
       "      <td>Released</td>\n",
       "      <td>NaN</td>\n",
       "      <td>Kahaani</td>\n",
       "      <td>[{'id': 10092, 'name': 'mystery'}, {'id': 1054...</td>\n",
       "      <td>[{'cast_id': 1, 'character': 'Vidya Bagchi', '...</td>\n",
       "      <td>[{'credit_id': '52fe48779251416c9108d6eb', 'de...</td>\n",
       "      <td>16000000</td>\n",
       "    </tr>\n",
       "    <tr>\n",
       "      <th>4</th>\n",
       "      <td>5</td>\n",
       "      <td>NaN</td>\n",
       "      <td>0</td>\n",
       "      <td>[{'id': 28, 'name': 'Action'}, {'id': 53, 'nam...</td>\n",
       "      <td>NaN</td>\n",
       "      <td>tt1380152</td>\n",
       "      <td>ko</td>\n",
       "      <td>마린보이</td>\n",
       "      <td>Marine Boy is the story of a former national s...</td>\n",
       "      <td>1.148070</td>\n",
       "      <td>...</td>\n",
       "      <td>2/5/09</td>\n",
       "      <td>118.0</td>\n",
       "      <td>[{'iso_639_1': 'ko', 'name': '한국어/조선말'}]</td>\n",
       "      <td>Released</td>\n",
       "      <td>NaN</td>\n",
       "      <td>Marine Boy</td>\n",
       "      <td>NaN</td>\n",
       "      <td>[{'cast_id': 3, 'character': 'Chun-soo', 'cred...</td>\n",
       "      <td>[{'credit_id': '52fe464b9251416c75073b43', 'de...</td>\n",
       "      <td>3923970</td>\n",
       "    </tr>\n",
       "  </tbody>\n",
       "</table>\n",
       "<p>5 rows × 23 columns</p>\n",
       "</div>"
      ],
      "text/plain": [
       "   id                              belongs_to_collection    budget  \\\n",
       "0   1  [{'id': 313576, 'name': 'Hot Tub Time Machine ...  14000000   \n",
       "1   2  [{'id': 107674, 'name': 'The Princess Diaries ...  40000000   \n",
       "2   3                                                NaN   3300000   \n",
       "3   4                                                NaN   1200000   \n",
       "4   5                                                NaN         0   \n",
       "\n",
       "                                              genres  \\\n",
       "0                     [{'id': 35, 'name': 'Comedy'}]   \n",
       "1  [{'id': 35, 'name': 'Comedy'}, {'id': 18, 'nam...   \n",
       "2                      [{'id': 18, 'name': 'Drama'}]   \n",
       "3  [{'id': 53, 'name': 'Thriller'}, {'id': 18, 'n...   \n",
       "4  [{'id': 28, 'name': 'Action'}, {'id': 53, 'nam...   \n",
       "\n",
       "                            homepage    imdb_id original_language  \\\n",
       "0                                NaN  tt2637294                en   \n",
       "1                                NaN  tt0368933                en   \n",
       "2  http://sonyclassics.com/whiplash/  tt2582802                en   \n",
       "3         http://kahaanithefilm.com/  tt1821480                hi   \n",
       "4                                NaN  tt1380152                ko   \n",
       "\n",
       "                             original_title  \\\n",
       "0                    Hot Tub Time Machine 2   \n",
       "1  The Princess Diaries 2: Royal Engagement   \n",
       "2                                  Whiplash   \n",
       "3                                   Kahaani   \n",
       "4                                      마린보이   \n",
       "\n",
       "                                            overview  popularity  ...  \\\n",
       "0  When Lou, who has become the \"father of the In...    6.575393  ...   \n",
       "1  Mia Thermopolis is now a college graduate and ...    8.248895  ...   \n",
       "2  Under the direction of a ruthless instructor, ...   64.299990  ...   \n",
       "3  Vidya Bagchi (Vidya Balan) arrives in Kolkata ...    3.174936  ...   \n",
       "4  Marine Boy is the story of a former national s...    1.148070  ...   \n",
       "\n",
       "  release_date runtime                                   spoken_languages  \\\n",
       "0      2/20/15    93.0           [{'iso_639_1': 'en', 'name': 'English'}]   \n",
       "1       8/6/04   113.0           [{'iso_639_1': 'en', 'name': 'English'}]   \n",
       "2     10/10/14   105.0           [{'iso_639_1': 'en', 'name': 'English'}]   \n",
       "3       3/9/12   122.0  [{'iso_639_1': 'en', 'name': 'English'}, {'iso...   \n",
       "4       2/5/09   118.0           [{'iso_639_1': 'ko', 'name': '한국어/조선말'}]   \n",
       "\n",
       "     status                                            tagline  \\\n",
       "0  Released  The Laws of Space and Time are About to be Vio...   \n",
       "1  Released  It can take a lifetime to find true love; she'...   \n",
       "2  Released    The road to greatness can take you to the edge.   \n",
       "3  Released                                                NaN   \n",
       "4  Released                                                NaN   \n",
       "\n",
       "                                      title  \\\n",
       "0                    Hot Tub Time Machine 2   \n",
       "1  The Princess Diaries 2: Royal Engagement   \n",
       "2                                  Whiplash   \n",
       "3                                   Kahaani   \n",
       "4                                Marine Boy   \n",
       "\n",
       "                                            Keywords  \\\n",
       "0  [{'id': 4379, 'name': 'time travel'}, {'id': 9...   \n",
       "1  [{'id': 2505, 'name': 'coronation'}, {'id': 42...   \n",
       "2  [{'id': 1416, 'name': 'jazz'}, {'id': 1523, 'n...   \n",
       "3  [{'id': 10092, 'name': 'mystery'}, {'id': 1054...   \n",
       "4                                                NaN   \n",
       "\n",
       "                                                cast  \\\n",
       "0  [{'cast_id': 4, 'character': 'Lou', 'credit_id...   \n",
       "1  [{'cast_id': 1, 'character': 'Mia Thermopolis'...   \n",
       "2  [{'cast_id': 5, 'character': 'Andrew Neimann',...   \n",
       "3  [{'cast_id': 1, 'character': 'Vidya Bagchi', '...   \n",
       "4  [{'cast_id': 3, 'character': 'Chun-soo', 'cred...   \n",
       "\n",
       "                                                crew   revenue  \n",
       "0  [{'credit_id': '59ac067c92514107af02c8c8', 'de...  12314651  \n",
       "1  [{'credit_id': '52fe43fe9251416c7502563d', 'de...  95149435  \n",
       "2  [{'credit_id': '54d5356ec3a3683ba0000039', 'de...  13092000  \n",
       "3  [{'credit_id': '52fe48779251416c9108d6eb', 'de...  16000000  \n",
       "4  [{'credit_id': '52fe464b9251416c75073b43', 'de...   3923970  \n",
       "\n",
       "[5 rows x 23 columns]"
      ]
     },
     "execution_count": 804,
     "metadata": {},
     "output_type": "execute_result"
    }
   ],
   "source": [
    "train.head()"
   ]
  },
  {
   "cell_type": "markdown",
   "id": "9c665e85-da50-405d-947c-db38f32b80ea",
   "metadata": {},
   "source": [
    "Starter med å få en oversikt over attributtene samt de øverste radene"
   ]
  },
  {
   "cell_type": "code",
   "execution_count": 805,
   "id": "ac951f18-d8e7-4d47-9ef2-d1cb041b465a",
   "metadata": {},
   "outputs": [
    {
     "data": {
      "text/html": [
       "<div>\n",
       "<style scoped>\n",
       "    .dataframe tbody tr th:only-of-type {\n",
       "        vertical-align: middle;\n",
       "    }\n",
       "\n",
       "    .dataframe tbody tr th {\n",
       "        vertical-align: top;\n",
       "    }\n",
       "\n",
       "    .dataframe thead th {\n",
       "        text-align: right;\n",
       "    }\n",
       "</style>\n",
       "<table border=\"1\" class=\"dataframe\">\n",
       "  <thead>\n",
       "    <tr style=\"text-align: right;\">\n",
       "      <th></th>\n",
       "      <th>id</th>\n",
       "      <th>belongs_to_collection</th>\n",
       "      <th>budget</th>\n",
       "      <th>genres</th>\n",
       "      <th>homepage</th>\n",
       "      <th>imdb_id</th>\n",
       "      <th>original_language</th>\n",
       "      <th>original_title</th>\n",
       "      <th>overview</th>\n",
       "      <th>popularity</th>\n",
       "      <th>...</th>\n",
       "      <th>production_countries</th>\n",
       "      <th>release_date</th>\n",
       "      <th>runtime</th>\n",
       "      <th>spoken_languages</th>\n",
       "      <th>status</th>\n",
       "      <th>tagline</th>\n",
       "      <th>title</th>\n",
       "      <th>Keywords</th>\n",
       "      <th>cast</th>\n",
       "      <th>crew</th>\n",
       "    </tr>\n",
       "  </thead>\n",
       "  <tbody>\n",
       "    <tr>\n",
       "      <th>0</th>\n",
       "      <td>3001</td>\n",
       "      <td>[{'id': 34055, 'name': 'Pokémon Collection', '...</td>\n",
       "      <td>0</td>\n",
       "      <td>[{'id': 12, 'name': 'Adventure'}, {'id': 16, '...</td>\n",
       "      <td>http://www.pokemon.com/us/movies/movie-pokemon...</td>\n",
       "      <td>tt1226251</td>\n",
       "      <td>ja</td>\n",
       "      <td>ディアルガVSパルキアVSダークライ</td>\n",
       "      <td>Ash and friends (this time accompanied by newc...</td>\n",
       "      <td>3.851534</td>\n",
       "      <td>...</td>\n",
       "      <td>[{'iso_3166_1': 'JP', 'name': 'Japan'}, {'iso_...</td>\n",
       "      <td>7/14/07</td>\n",
       "      <td>90.0</td>\n",
       "      <td>[{'iso_639_1': 'en', 'name': 'English'}, {'iso...</td>\n",
       "      <td>Released</td>\n",
       "      <td>Somewhere Between Time &amp; Space... A Legend Is ...</td>\n",
       "      <td>Pokémon: The Rise of Darkrai</td>\n",
       "      <td>[{'id': 11451, 'name': 'pok√©mon'}, {'id': 115...</td>\n",
       "      <td>[{'cast_id': 3, 'character': 'Tonio', 'credit_...</td>\n",
       "      <td>[{'credit_id': '52fe44e7c3a368484e03d683', 'de...</td>\n",
       "    </tr>\n",
       "    <tr>\n",
       "      <th>1</th>\n",
       "      <td>3002</td>\n",
       "      <td>NaN</td>\n",
       "      <td>88000</td>\n",
       "      <td>[{'id': 27, 'name': 'Horror'}, {'id': 878, 'na...</td>\n",
       "      <td>NaN</td>\n",
       "      <td>tt0051380</td>\n",
       "      <td>en</td>\n",
       "      <td>Attack of the 50 Foot Woman</td>\n",
       "      <td>When an abused wife grows to giant size becaus...</td>\n",
       "      <td>3.559789</td>\n",
       "      <td>...</td>\n",
       "      <td>[{'iso_3166_1': 'US', 'name': 'United States o...</td>\n",
       "      <td>5/19/58</td>\n",
       "      <td>65.0</td>\n",
       "      <td>[{'iso_639_1': 'en', 'name': 'English'}]</td>\n",
       "      <td>Released</td>\n",
       "      <td>A titanic beauty spreads a macabre wave of hor...</td>\n",
       "      <td>Attack of the 50 Foot Woman</td>\n",
       "      <td>[{'id': 9748, 'name': 'revenge'}, {'id': 9951,...</td>\n",
       "      <td>[{'cast_id': 2, 'character': 'Nancy Fowler Arc...</td>\n",
       "      <td>[{'credit_id': '55807805c3a3685b1300060b', 'de...</td>\n",
       "    </tr>\n",
       "    <tr>\n",
       "      <th>2</th>\n",
       "      <td>3003</td>\n",
       "      <td>NaN</td>\n",
       "      <td>0</td>\n",
       "      <td>[{'id': 35, 'name': 'Comedy'}, {'id': 10749, '...</td>\n",
       "      <td>NaN</td>\n",
       "      <td>tt0118556</td>\n",
       "      <td>en</td>\n",
       "      <td>Addicted to Love</td>\n",
       "      <td>Good-natured astronomer Sam is devastated when...</td>\n",
       "      <td>8.085194</td>\n",
       "      <td>...</td>\n",
       "      <td>[{'iso_3166_1': 'US', 'name': 'United States o...</td>\n",
       "      <td>5/23/97</td>\n",
       "      <td>100.0</td>\n",
       "      <td>[{'iso_639_1': 'en', 'name': 'English'}]</td>\n",
       "      <td>Released</td>\n",
       "      <td>A Comedy About Lost Loves And Last Laughs</td>\n",
       "      <td>Addicted to Love</td>\n",
       "      <td>[{'id': 931, 'name': 'jealousy'}, {'id': 9673,...</td>\n",
       "      <td>[{'cast_id': 11, 'character': 'Maggie', 'credi...</td>\n",
       "      <td>[{'credit_id': '52fe4330c3a36847f8041367', 'de...</td>\n",
       "    </tr>\n",
       "    <tr>\n",
       "      <th>3</th>\n",
       "      <td>3004</td>\n",
       "      <td>NaN</td>\n",
       "      <td>6800000</td>\n",
       "      <td>[{'id': 18, 'name': 'Drama'}, {'id': 10752, 'n...</td>\n",
       "      <td>http://www.sonyclassics.com/incendies/</td>\n",
       "      <td>tt1255953</td>\n",
       "      <td>fr</td>\n",
       "      <td>Incendies</td>\n",
       "      <td>A mother's last wishes send twins Jeanne and S...</td>\n",
       "      <td>8.596012</td>\n",
       "      <td>...</td>\n",
       "      <td>[{'iso_3166_1': 'CA', 'name': 'Canada'}, {'iso...</td>\n",
       "      <td>9/4/10</td>\n",
       "      <td>130.0</td>\n",
       "      <td>[{'iso_639_1': 'fr', 'name': 'Français'}, {'is...</td>\n",
       "      <td>Released</td>\n",
       "      <td>The search began at the opening of their mothe...</td>\n",
       "      <td>Incendies</td>\n",
       "      <td>[{'id': 378, 'name': 'prison'}, {'id': 539, 'n...</td>\n",
       "      <td>[{'cast_id': 6, 'character': 'Nawal', 'credit_...</td>\n",
       "      <td>[{'credit_id': '56478092c3a36826140043af', 'de...</td>\n",
       "    </tr>\n",
       "    <tr>\n",
       "      <th>4</th>\n",
       "      <td>3005</td>\n",
       "      <td>NaN</td>\n",
       "      <td>2000000</td>\n",
       "      <td>[{'id': 36, 'name': 'History'}, {'id': 99, 'na...</td>\n",
       "      <td>NaN</td>\n",
       "      <td>tt0418753</td>\n",
       "      <td>en</td>\n",
       "      <td>Inside Deep Throat</td>\n",
       "      <td>In 1972, a seemingly typical shoestring budget...</td>\n",
       "      <td>3.217680</td>\n",
       "      <td>...</td>\n",
       "      <td>[{'iso_3166_1': 'US', 'name': 'United States o...</td>\n",
       "      <td>2/11/05</td>\n",
       "      <td>92.0</td>\n",
       "      <td>[{'iso_639_1': 'en', 'name': 'English'}]</td>\n",
       "      <td>Released</td>\n",
       "      <td>It was filmed in 6 days for 25 thousand dollar...</td>\n",
       "      <td>Inside Deep Throat</td>\n",
       "      <td>[{'id': 279, 'name': 'usa'}, {'id': 1228, 'nam...</td>\n",
       "      <td>[{'cast_id': 1, 'character': 'Narrator (voice)...</td>\n",
       "      <td>[{'credit_id': '52fe44ce9251416c75041967', 'de...</td>\n",
       "    </tr>\n",
       "  </tbody>\n",
       "</table>\n",
       "<p>5 rows × 22 columns</p>\n",
       "</div>"
      ],
      "text/plain": [
       "     id                              belongs_to_collection   budget  \\\n",
       "0  3001  [{'id': 34055, 'name': 'Pokémon Collection', '...        0   \n",
       "1  3002                                                NaN    88000   \n",
       "2  3003                                                NaN        0   \n",
       "3  3004                                                NaN  6800000   \n",
       "4  3005                                                NaN  2000000   \n",
       "\n",
       "                                              genres  \\\n",
       "0  [{'id': 12, 'name': 'Adventure'}, {'id': 16, '...   \n",
       "1  [{'id': 27, 'name': 'Horror'}, {'id': 878, 'na...   \n",
       "2  [{'id': 35, 'name': 'Comedy'}, {'id': 10749, '...   \n",
       "3  [{'id': 18, 'name': 'Drama'}, {'id': 10752, 'n...   \n",
       "4  [{'id': 36, 'name': 'History'}, {'id': 99, 'na...   \n",
       "\n",
       "                                            homepage    imdb_id  \\\n",
       "0  http://www.pokemon.com/us/movies/movie-pokemon...  tt1226251   \n",
       "1                                                NaN  tt0051380   \n",
       "2                                                NaN  tt0118556   \n",
       "3             http://www.sonyclassics.com/incendies/  tt1255953   \n",
       "4                                                NaN  tt0418753   \n",
       "\n",
       "  original_language               original_title  \\\n",
       "0                ja           ディアルガVSパルキアVSダークライ   \n",
       "1                en  Attack of the 50 Foot Woman   \n",
       "2                en             Addicted to Love   \n",
       "3                fr                    Incendies   \n",
       "4                en           Inside Deep Throat   \n",
       "\n",
       "                                            overview  popularity  ...  \\\n",
       "0  Ash and friends (this time accompanied by newc...    3.851534  ...   \n",
       "1  When an abused wife grows to giant size becaus...    3.559789  ...   \n",
       "2  Good-natured astronomer Sam is devastated when...    8.085194  ...   \n",
       "3  A mother's last wishes send twins Jeanne and S...    8.596012  ...   \n",
       "4  In 1972, a seemingly typical shoestring budget...    3.217680  ...   \n",
       "\n",
       "                                production_countries release_date runtime  \\\n",
       "0  [{'iso_3166_1': 'JP', 'name': 'Japan'}, {'iso_...      7/14/07    90.0   \n",
       "1  [{'iso_3166_1': 'US', 'name': 'United States o...      5/19/58    65.0   \n",
       "2  [{'iso_3166_1': 'US', 'name': 'United States o...      5/23/97   100.0   \n",
       "3  [{'iso_3166_1': 'CA', 'name': 'Canada'}, {'iso...       9/4/10   130.0   \n",
       "4  [{'iso_3166_1': 'US', 'name': 'United States o...      2/11/05    92.0   \n",
       "\n",
       "                                    spoken_languages    status  \\\n",
       "0  [{'iso_639_1': 'en', 'name': 'English'}, {'iso...  Released   \n",
       "1           [{'iso_639_1': 'en', 'name': 'English'}]  Released   \n",
       "2           [{'iso_639_1': 'en', 'name': 'English'}]  Released   \n",
       "3  [{'iso_639_1': 'fr', 'name': 'Français'}, {'is...  Released   \n",
       "4           [{'iso_639_1': 'en', 'name': 'English'}]  Released   \n",
       "\n",
       "                                             tagline  \\\n",
       "0  Somewhere Between Time & Space... A Legend Is ...   \n",
       "1  A titanic beauty spreads a macabre wave of hor...   \n",
       "2          A Comedy About Lost Loves And Last Laughs   \n",
       "3  The search began at the opening of their mothe...   \n",
       "4  It was filmed in 6 days for 25 thousand dollar...   \n",
       "\n",
       "                          title  \\\n",
       "0  Pokémon: The Rise of Darkrai   \n",
       "1   Attack of the 50 Foot Woman   \n",
       "2              Addicted to Love   \n",
       "3                     Incendies   \n",
       "4            Inside Deep Throat   \n",
       "\n",
       "                                            Keywords  \\\n",
       "0  [{'id': 11451, 'name': 'pok√©mon'}, {'id': 115...   \n",
       "1  [{'id': 9748, 'name': 'revenge'}, {'id': 9951,...   \n",
       "2  [{'id': 931, 'name': 'jealousy'}, {'id': 9673,...   \n",
       "3  [{'id': 378, 'name': 'prison'}, {'id': 539, 'n...   \n",
       "4  [{'id': 279, 'name': 'usa'}, {'id': 1228, 'nam...   \n",
       "\n",
       "                                                cast  \\\n",
       "0  [{'cast_id': 3, 'character': 'Tonio', 'credit_...   \n",
       "1  [{'cast_id': 2, 'character': 'Nancy Fowler Arc...   \n",
       "2  [{'cast_id': 11, 'character': 'Maggie', 'credi...   \n",
       "3  [{'cast_id': 6, 'character': 'Nawal', 'credit_...   \n",
       "4  [{'cast_id': 1, 'character': 'Narrator (voice)...   \n",
       "\n",
       "                                                crew  \n",
       "0  [{'credit_id': '52fe44e7c3a368484e03d683', 'de...  \n",
       "1  [{'credit_id': '55807805c3a3685b1300060b', 'de...  \n",
       "2  [{'credit_id': '52fe4330c3a36847f8041367', 'de...  \n",
       "3  [{'credit_id': '56478092c3a36826140043af', 'de...  \n",
       "4  [{'credit_id': '52fe44ce9251416c75041967', 'de...  \n",
       "\n",
       "[5 rows x 22 columns]"
      ]
     },
     "execution_count": 805,
     "metadata": {},
     "output_type": "execute_result"
    }
   ],
   "source": [
    "test.head()"
   ]
  },
  {
   "cell_type": "code",
   "execution_count": 806,
   "id": "56027997-9689-424c-b5cf-daf47c42b762",
   "metadata": {},
   "outputs": [
    {
     "name": "stdout",
     "output_type": "stream",
     "text": [
      "<class 'pandas.core.frame.DataFrame'>\n",
      "RangeIndex: 3000 entries, 0 to 2999\n",
      "Data columns (total 23 columns):\n",
      " #   Column                 Non-Null Count  Dtype  \n",
      "---  ------                 --------------  -----  \n",
      " 0   id                     3000 non-null   int64  \n",
      " 1   belongs_to_collection  604 non-null    object \n",
      " 2   budget                 3000 non-null   int64  \n",
      " 3   genres                 2993 non-null   object \n",
      " 4   homepage               946 non-null    object \n",
      " 5   imdb_id                3000 non-null   object \n",
      " 6   original_language      3000 non-null   object \n",
      " 7   original_title         3000 non-null   object \n",
      " 8   overview               2992 non-null   object \n",
      " 9   popularity             3000 non-null   float64\n",
      " 10  poster_path            2999 non-null   object \n",
      " 11  production_companies   2844 non-null   object \n",
      " 12  production_countries   2945 non-null   object \n",
      " 13  release_date           3000 non-null   object \n",
      " 14  runtime                2998 non-null   float64\n",
      " 15  spoken_languages       2980 non-null   object \n",
      " 16  status                 3000 non-null   object \n",
      " 17  tagline                2403 non-null   object \n",
      " 18  title                  3000 non-null   object \n",
      " 19  Keywords               2724 non-null   object \n",
      " 20  cast                   2987 non-null   object \n",
      " 21  crew                   2984 non-null   object \n",
      " 22  revenue                3000 non-null   int64  \n",
      "dtypes: float64(2), int64(3), object(18)\n",
      "memory usage: 539.2+ KB\n"
     ]
    }
   ],
   "source": [
    "train.info()"
   ]
  },
  {
   "cell_type": "markdown",
   "id": "3591f45f-7f64-4257-b7df-323336124184",
   "metadata": {},
   "source": [
    "info-metoden gir oss en oversikt over aktuelle attributter, og for å få en bedre forståelse for attributten vi skal arbeide med, definerer vi de:\n",
    "\n",
    "id: En unik integrer for hver film <br>\n",
    "belongs_to_collection: Inneholder id fra The Movie Database(TMDB), film plakater og URL til en film <br>\n",
    "budget: Budsjettet til filmen i dollar <br>\n",
    "genres: Inneholder sjanger og id til filmen i TMDB <br>\n",
    "homepage: Offisiell link til filmen <br>\n",
    "imdb_id: IMDB id lagret som en String <br>\n",
    "original_language: Originalspråket til filmen som en to-sifret kode, f. eks EN for engelsk <br>\n",
    "orginal_title: Tittelen til filmen i originalspråket <br>\n",
    "overview: En kort beskrivelse av innholdet til filmen <br>\n",
    "popularity: Filmens popularitet <br>\n",
    "poster_path: En path til fullversjon av plakaten <br>\n",
    "production_companies: Inneholder navn på produksjonensselskapet til filmen, samt korresponderende TMDB id <br>\n",
    "production_countries: Navn til produksjonslandet og en to-sifret id <br>\n",
    "release_date: Lanseringsdato for filmen i formatet mm/dd/åå <br>\n",
    "runtime: Lengde på film i minutter <br>\n",
    "spoken_languages: Språket til filmen, samt en to-sifret kode <br>\n",
    "status: Er filmen lansert eller er det ryktet at filmen skal lanseres? <br>\n",
    "tagline: Slagord for filmen <br>\n",
    "title: Den engelske tittelen på filmen <br>\n",
    "keywords: Inneholder alle søkeord til filmen samt TMDB id <br>\n",
    "cast: Inneholder rollebesettninges TMDB id, navn, karakter navn og kjønn <br>\n",
    "crew: Inneholder navn, TMDB id og jobbtittel <br>\n",
    "revenue: Filmens inntekter i dollar"
   ]
  },
  {
   "cell_type": "code",
   "execution_count": 807,
   "id": "621f1425-642a-4ca7-bc65-d1905ea40d10",
   "metadata": {},
   "outputs": [
    {
     "name": "stdout",
     "output_type": "stream",
     "text": [
      "<class 'pandas.core.frame.DataFrame'>\n",
      "RangeIndex: 4398 entries, 0 to 4397\n",
      "Data columns (total 22 columns):\n",
      " #   Column                 Non-Null Count  Dtype  \n",
      "---  ------                 --------------  -----  \n",
      " 0   id                     4398 non-null   int64  \n",
      " 1   belongs_to_collection  877 non-null    object \n",
      " 2   budget                 4398 non-null   int64  \n",
      " 3   genres                 4382 non-null   object \n",
      " 4   homepage               1420 non-null   object \n",
      " 5   imdb_id                4398 non-null   object \n",
      " 6   original_language      4398 non-null   object \n",
      " 7   original_title         4398 non-null   object \n",
      " 8   overview               4384 non-null   object \n",
      " 9   popularity             4398 non-null   float64\n",
      " 10  poster_path            4397 non-null   object \n",
      " 11  production_companies   4140 non-null   object \n",
      " 12  production_countries   4296 non-null   object \n",
      " 13  release_date           4397 non-null   object \n",
      " 14  runtime                4394 non-null   float64\n",
      " 15  spoken_languages       4356 non-null   object \n",
      " 16  status                 4396 non-null   object \n",
      " 17  tagline                3535 non-null   object \n",
      " 18  title                  4395 non-null   object \n",
      " 19  Keywords               4005 non-null   object \n",
      " 20  cast                   4385 non-null   object \n",
      " 21  crew                   4376 non-null   object \n",
      "dtypes: float64(2), int64(2), object(18)\n",
      "memory usage: 756.0+ KB\n"
     ]
    }
   ],
   "source": [
    "test.info()"
   ]
  },
  {
   "cell_type": "markdown",
   "id": "9571be05-23e4-40e2-9071-51e04e47db7b",
   "metadata": {},
   "source": [
    "Som forventet har testsettet en mindre attributt, nemlig revenue."
   ]
  },
  {
   "cell_type": "code",
   "execution_count": 808,
   "id": "988de7f9-9433-4c08-b023-921aa01c798c",
   "metadata": {},
   "outputs": [
    {
     "data": {
      "text/plain": [
       "((3000, 23), (4398, 22))"
      ]
     },
     "execution_count": 808,
     "metadata": {},
     "output_type": "execute_result"
    },
    {
     "name": "stdout",
     "output_type": "stream",
     "text": [
      "Antall filmer i treningssettet er 3000 og antall filmer i testsettet er 4398\n"
     ]
    }
   ],
   "source": [
    "train.shape, test.shape\n",
    "print('Antall filmer i treningssettet er',train.shape[0],\n",
    "     'og antall filmer i testsettet er', test.shape[0])"
   ]
  },
  {
   "cell_type": "code",
   "execution_count": 809,
   "id": "49dd955f-c939-4dbe-ad4c-c1a024cf1f70",
   "metadata": {},
   "outputs": [
    {
     "data": {
      "text/html": [
       "<div>\n",
       "<style scoped>\n",
       "    .dataframe tbody tr th:only-of-type {\n",
       "        vertical-align: middle;\n",
       "    }\n",
       "\n",
       "    .dataframe tbody tr th {\n",
       "        vertical-align: top;\n",
       "    }\n",
       "\n",
       "    .dataframe thead th {\n",
       "        text-align: right;\n",
       "    }\n",
       "</style>\n",
       "<table border=\"1\" class=\"dataframe\">\n",
       "  <thead>\n",
       "    <tr style=\"text-align: right;\">\n",
       "      <th></th>\n",
       "      <th>id</th>\n",
       "      <th>belongs_to_collection</th>\n",
       "      <th>budget</th>\n",
       "      <th>genres</th>\n",
       "      <th>homepage</th>\n",
       "      <th>imdb_id</th>\n",
       "      <th>original_language</th>\n",
       "      <th>original_title</th>\n",
       "      <th>overview</th>\n",
       "      <th>popularity</th>\n",
       "      <th>...</th>\n",
       "      <th>release_date</th>\n",
       "      <th>runtime</th>\n",
       "      <th>spoken_languages</th>\n",
       "      <th>status</th>\n",
       "      <th>tagline</th>\n",
       "      <th>title</th>\n",
       "      <th>Keywords</th>\n",
       "      <th>cast</th>\n",
       "      <th>crew</th>\n",
       "      <th>revenue</th>\n",
       "    </tr>\n",
       "  </thead>\n",
       "  <tbody>\n",
       "    <tr>\n",
       "      <th>count</th>\n",
       "      <td>3000.000000</td>\n",
       "      <td>604</td>\n",
       "      <td>3.000000e+03</td>\n",
       "      <td>2993</td>\n",
       "      <td>946</td>\n",
       "      <td>3000</td>\n",
       "      <td>3000</td>\n",
       "      <td>3000</td>\n",
       "      <td>2992</td>\n",
       "      <td>3000.000000</td>\n",
       "      <td>...</td>\n",
       "      <td>3000</td>\n",
       "      <td>2998.000000</td>\n",
       "      <td>2980</td>\n",
       "      <td>3000</td>\n",
       "      <td>2403</td>\n",
       "      <td>3000</td>\n",
       "      <td>2724</td>\n",
       "      <td>2987</td>\n",
       "      <td>2984</td>\n",
       "      <td>3.000000e+03</td>\n",
       "    </tr>\n",
       "    <tr>\n",
       "      <th>unique</th>\n",
       "      <td>NaN</td>\n",
       "      <td>422</td>\n",
       "      <td>NaN</td>\n",
       "      <td>872</td>\n",
       "      <td>941</td>\n",
       "      <td>3000</td>\n",
       "      <td>36</td>\n",
       "      <td>2975</td>\n",
       "      <td>2992</td>\n",
       "      <td>NaN</td>\n",
       "      <td>...</td>\n",
       "      <td>2398</td>\n",
       "      <td>NaN</td>\n",
       "      <td>401</td>\n",
       "      <td>2</td>\n",
       "      <td>2400</td>\n",
       "      <td>2969</td>\n",
       "      <td>2648</td>\n",
       "      <td>2975</td>\n",
       "      <td>2984</td>\n",
       "      <td>NaN</td>\n",
       "    </tr>\n",
       "    <tr>\n",
       "      <th>top</th>\n",
       "      <td>NaN</td>\n",
       "      <td>[{'id': 645, 'name': 'James Bond Collection', ...</td>\n",
       "      <td>NaN</td>\n",
       "      <td>[{'id': 18, 'name': 'Drama'}]</td>\n",
       "      <td>http://www.transformersmovie.com/</td>\n",
       "      <td>tt2637294</td>\n",
       "      <td>en</td>\n",
       "      <td>Joshua</td>\n",
       "      <td>When Lou, who has become the \"father of the In...</td>\n",
       "      <td>NaN</td>\n",
       "      <td>...</td>\n",
       "      <td>9/10/10</td>\n",
       "      <td>NaN</td>\n",
       "      <td>[{'iso_639_1': 'en', 'name': 'English'}]</td>\n",
       "      <td>Released</td>\n",
       "      <td>Based on a true story.</td>\n",
       "      <td>The Magnificent Seven</td>\n",
       "      <td>[{'id': 10183, 'name': 'independent film'}]</td>\n",
       "      <td>[]</td>\n",
       "      <td>[{'credit_id': '59ac067c92514107af02c8c8', 'de...</td>\n",
       "      <td>NaN</td>\n",
       "    </tr>\n",
       "    <tr>\n",
       "      <th>freq</th>\n",
       "      <td>NaN</td>\n",
       "      <td>16</td>\n",
       "      <td>NaN</td>\n",
       "      <td>266</td>\n",
       "      <td>4</td>\n",
       "      <td>1</td>\n",
       "      <td>2575</td>\n",
       "      <td>2</td>\n",
       "      <td>1</td>\n",
       "      <td>NaN</td>\n",
       "      <td>...</td>\n",
       "      <td>5</td>\n",
       "      <td>NaN</td>\n",
       "      <td>1817</td>\n",
       "      <td>2996</td>\n",
       "      <td>3</td>\n",
       "      <td>2</td>\n",
       "      <td>27</td>\n",
       "      <td>13</td>\n",
       "      <td>1</td>\n",
       "      <td>NaN</td>\n",
       "    </tr>\n",
       "    <tr>\n",
       "      <th>mean</th>\n",
       "      <td>1500.500000</td>\n",
       "      <td>NaN</td>\n",
       "      <td>2.253133e+07</td>\n",
       "      <td>NaN</td>\n",
       "      <td>NaN</td>\n",
       "      <td>NaN</td>\n",
       "      <td>NaN</td>\n",
       "      <td>NaN</td>\n",
       "      <td>NaN</td>\n",
       "      <td>8.463274</td>\n",
       "      <td>...</td>\n",
       "      <td>NaN</td>\n",
       "      <td>107.856571</td>\n",
       "      <td>NaN</td>\n",
       "      <td>NaN</td>\n",
       "      <td>NaN</td>\n",
       "      <td>NaN</td>\n",
       "      <td>NaN</td>\n",
       "      <td>NaN</td>\n",
       "      <td>NaN</td>\n",
       "      <td>6.672585e+07</td>\n",
       "    </tr>\n",
       "    <tr>\n",
       "      <th>std</th>\n",
       "      <td>866.169729</td>\n",
       "      <td>NaN</td>\n",
       "      <td>3.702609e+07</td>\n",
       "      <td>NaN</td>\n",
       "      <td>NaN</td>\n",
       "      <td>NaN</td>\n",
       "      <td>NaN</td>\n",
       "      <td>NaN</td>\n",
       "      <td>NaN</td>\n",
       "      <td>12.104000</td>\n",
       "      <td>...</td>\n",
       "      <td>NaN</td>\n",
       "      <td>22.086434</td>\n",
       "      <td>NaN</td>\n",
       "      <td>NaN</td>\n",
       "      <td>NaN</td>\n",
       "      <td>NaN</td>\n",
       "      <td>NaN</td>\n",
       "      <td>NaN</td>\n",
       "      <td>NaN</td>\n",
       "      <td>1.375323e+08</td>\n",
       "    </tr>\n",
       "    <tr>\n",
       "      <th>min</th>\n",
       "      <td>1.000000</td>\n",
       "      <td>NaN</td>\n",
       "      <td>0.000000e+00</td>\n",
       "      <td>NaN</td>\n",
       "      <td>NaN</td>\n",
       "      <td>NaN</td>\n",
       "      <td>NaN</td>\n",
       "      <td>NaN</td>\n",
       "      <td>NaN</td>\n",
       "      <td>0.000001</td>\n",
       "      <td>...</td>\n",
       "      <td>NaN</td>\n",
       "      <td>0.000000</td>\n",
       "      <td>NaN</td>\n",
       "      <td>NaN</td>\n",
       "      <td>NaN</td>\n",
       "      <td>NaN</td>\n",
       "      <td>NaN</td>\n",
       "      <td>NaN</td>\n",
       "      <td>NaN</td>\n",
       "      <td>1.000000e+00</td>\n",
       "    </tr>\n",
       "    <tr>\n",
       "      <th>25%</th>\n",
       "      <td>750.750000</td>\n",
       "      <td>NaN</td>\n",
       "      <td>0.000000e+00</td>\n",
       "      <td>NaN</td>\n",
       "      <td>NaN</td>\n",
       "      <td>NaN</td>\n",
       "      <td>NaN</td>\n",
       "      <td>NaN</td>\n",
       "      <td>NaN</td>\n",
       "      <td>4.018053</td>\n",
       "      <td>...</td>\n",
       "      <td>NaN</td>\n",
       "      <td>94.000000</td>\n",
       "      <td>NaN</td>\n",
       "      <td>NaN</td>\n",
       "      <td>NaN</td>\n",
       "      <td>NaN</td>\n",
       "      <td>NaN</td>\n",
       "      <td>NaN</td>\n",
       "      <td>NaN</td>\n",
       "      <td>2.379808e+06</td>\n",
       "    </tr>\n",
       "    <tr>\n",
       "      <th>50%</th>\n",
       "      <td>1500.500000</td>\n",
       "      <td>NaN</td>\n",
       "      <td>8.000000e+06</td>\n",
       "      <td>NaN</td>\n",
       "      <td>NaN</td>\n",
       "      <td>NaN</td>\n",
       "      <td>NaN</td>\n",
       "      <td>NaN</td>\n",
       "      <td>NaN</td>\n",
       "      <td>7.374861</td>\n",
       "      <td>...</td>\n",
       "      <td>NaN</td>\n",
       "      <td>104.000000</td>\n",
       "      <td>NaN</td>\n",
       "      <td>NaN</td>\n",
       "      <td>NaN</td>\n",
       "      <td>NaN</td>\n",
       "      <td>NaN</td>\n",
       "      <td>NaN</td>\n",
       "      <td>NaN</td>\n",
       "      <td>1.680707e+07</td>\n",
       "    </tr>\n",
       "    <tr>\n",
       "      <th>75%</th>\n",
       "      <td>2250.250000</td>\n",
       "      <td>NaN</td>\n",
       "      <td>2.900000e+07</td>\n",
       "      <td>NaN</td>\n",
       "      <td>NaN</td>\n",
       "      <td>NaN</td>\n",
       "      <td>NaN</td>\n",
       "      <td>NaN</td>\n",
       "      <td>NaN</td>\n",
       "      <td>10.890983</td>\n",
       "      <td>...</td>\n",
       "      <td>NaN</td>\n",
       "      <td>118.000000</td>\n",
       "      <td>NaN</td>\n",
       "      <td>NaN</td>\n",
       "      <td>NaN</td>\n",
       "      <td>NaN</td>\n",
       "      <td>NaN</td>\n",
       "      <td>NaN</td>\n",
       "      <td>NaN</td>\n",
       "      <td>6.891920e+07</td>\n",
       "    </tr>\n",
       "    <tr>\n",
       "      <th>max</th>\n",
       "      <td>3000.000000</td>\n",
       "      <td>NaN</td>\n",
       "      <td>3.800000e+08</td>\n",
       "      <td>NaN</td>\n",
       "      <td>NaN</td>\n",
       "      <td>NaN</td>\n",
       "      <td>NaN</td>\n",
       "      <td>NaN</td>\n",
       "      <td>NaN</td>\n",
       "      <td>294.337037</td>\n",
       "      <td>...</td>\n",
       "      <td>NaN</td>\n",
       "      <td>338.000000</td>\n",
       "      <td>NaN</td>\n",
       "      <td>NaN</td>\n",
       "      <td>NaN</td>\n",
       "      <td>NaN</td>\n",
       "      <td>NaN</td>\n",
       "      <td>NaN</td>\n",
       "      <td>NaN</td>\n",
       "      <td>1.519558e+09</td>\n",
       "    </tr>\n",
       "  </tbody>\n",
       "</table>\n",
       "<p>11 rows × 23 columns</p>\n",
       "</div>"
      ],
      "text/plain": [
       "                 id                              belongs_to_collection  \\\n",
       "count   3000.000000                                                604   \n",
       "unique          NaN                                                422   \n",
       "top             NaN  [{'id': 645, 'name': 'James Bond Collection', ...   \n",
       "freq            NaN                                                 16   \n",
       "mean    1500.500000                                                NaN   \n",
       "std      866.169729                                                NaN   \n",
       "min        1.000000                                                NaN   \n",
       "25%      750.750000                                                NaN   \n",
       "50%     1500.500000                                                NaN   \n",
       "75%     2250.250000                                                NaN   \n",
       "max     3000.000000                                                NaN   \n",
       "\n",
       "              budget                         genres  \\\n",
       "count   3.000000e+03                           2993   \n",
       "unique           NaN                            872   \n",
       "top              NaN  [{'id': 18, 'name': 'Drama'}]   \n",
       "freq             NaN                            266   \n",
       "mean    2.253133e+07                            NaN   \n",
       "std     3.702609e+07                            NaN   \n",
       "min     0.000000e+00                            NaN   \n",
       "25%     0.000000e+00                            NaN   \n",
       "50%     8.000000e+06                            NaN   \n",
       "75%     2.900000e+07                            NaN   \n",
       "max     3.800000e+08                            NaN   \n",
       "\n",
       "                                 homepage    imdb_id original_language  \\\n",
       "count                                 946       3000              3000   \n",
       "unique                                941       3000                36   \n",
       "top     http://www.transformersmovie.com/  tt2637294                en   \n",
       "freq                                    4          1              2575   \n",
       "mean                                  NaN        NaN               NaN   \n",
       "std                                   NaN        NaN               NaN   \n",
       "min                                   NaN        NaN               NaN   \n",
       "25%                                   NaN        NaN               NaN   \n",
       "50%                                   NaN        NaN               NaN   \n",
       "75%                                   NaN        NaN               NaN   \n",
       "max                                   NaN        NaN               NaN   \n",
       "\n",
       "       original_title                                           overview  \\\n",
       "count            3000                                               2992   \n",
       "unique           2975                                               2992   \n",
       "top            Joshua  When Lou, who has become the \"father of the In...   \n",
       "freq                2                                                  1   \n",
       "mean              NaN                                                NaN   \n",
       "std               NaN                                                NaN   \n",
       "min               NaN                                                NaN   \n",
       "25%               NaN                                                NaN   \n",
       "50%               NaN                                                NaN   \n",
       "75%               NaN                                                NaN   \n",
       "max               NaN                                                NaN   \n",
       "\n",
       "         popularity  ... release_date      runtime  \\\n",
       "count   3000.000000  ...         3000  2998.000000   \n",
       "unique          NaN  ...         2398          NaN   \n",
       "top             NaN  ...      9/10/10          NaN   \n",
       "freq            NaN  ...            5          NaN   \n",
       "mean       8.463274  ...          NaN   107.856571   \n",
       "std       12.104000  ...          NaN    22.086434   \n",
       "min        0.000001  ...          NaN     0.000000   \n",
       "25%        4.018053  ...          NaN    94.000000   \n",
       "50%        7.374861  ...          NaN   104.000000   \n",
       "75%       10.890983  ...          NaN   118.000000   \n",
       "max      294.337037  ...          NaN   338.000000   \n",
       "\n",
       "                                spoken_languages    status  \\\n",
       "count                                       2980      3000   \n",
       "unique                                       401         2   \n",
       "top     [{'iso_639_1': 'en', 'name': 'English'}]  Released   \n",
       "freq                                        1817      2996   \n",
       "mean                                         NaN       NaN   \n",
       "std                                          NaN       NaN   \n",
       "min                                          NaN       NaN   \n",
       "25%                                          NaN       NaN   \n",
       "50%                                          NaN       NaN   \n",
       "75%                                          NaN       NaN   \n",
       "max                                          NaN       NaN   \n",
       "\n",
       "                       tagline                  title  \\\n",
       "count                     2403                   3000   \n",
       "unique                    2400                   2969   \n",
       "top     Based on a true story.  The Magnificent Seven   \n",
       "freq                         3                      2   \n",
       "mean                       NaN                    NaN   \n",
       "std                        NaN                    NaN   \n",
       "min                        NaN                    NaN   \n",
       "25%                        NaN                    NaN   \n",
       "50%                        NaN                    NaN   \n",
       "75%                        NaN                    NaN   \n",
       "max                        NaN                    NaN   \n",
       "\n",
       "                                           Keywords  cast  \\\n",
       "count                                          2724  2987   \n",
       "unique                                         2648  2975   \n",
       "top     [{'id': 10183, 'name': 'independent film'}]    []   \n",
       "freq                                             27    13   \n",
       "mean                                            NaN   NaN   \n",
       "std                                             NaN   NaN   \n",
       "min                                             NaN   NaN   \n",
       "25%                                             NaN   NaN   \n",
       "50%                                             NaN   NaN   \n",
       "75%                                             NaN   NaN   \n",
       "max                                             NaN   NaN   \n",
       "\n",
       "                                                     crew       revenue  \n",
       "count                                                2984  3.000000e+03  \n",
       "unique                                               2984           NaN  \n",
       "top     [{'credit_id': '59ac067c92514107af02c8c8', 'de...           NaN  \n",
       "freq                                                    1           NaN  \n",
       "mean                                                  NaN  6.672585e+07  \n",
       "std                                                   NaN  1.375323e+08  \n",
       "min                                                   NaN  1.000000e+00  \n",
       "25%                                                   NaN  2.379808e+06  \n",
       "50%                                                   NaN  1.680707e+07  \n",
       "75%                                                   NaN  6.891920e+07  \n",
       "max                                                   NaN  1.519558e+09  \n",
       "\n",
       "[11 rows x 23 columns]"
      ]
     },
     "execution_count": 809,
     "metadata": {},
     "output_type": "execute_result"
    }
   ],
   "source": [
    "train.describe(include='all')"
   ]
  },
  {
   "cell_type": "code",
   "execution_count": 810,
   "id": "9f9ae2ce-587c-441e-9d58-27a70907c91b",
   "metadata": {},
   "outputs": [
    {
     "data": {
      "text/html": [
       "<div>\n",
       "<style scoped>\n",
       "    .dataframe tbody tr th:only-of-type {\n",
       "        vertical-align: middle;\n",
       "    }\n",
       "\n",
       "    .dataframe tbody tr th {\n",
       "        vertical-align: top;\n",
       "    }\n",
       "\n",
       "    .dataframe thead th {\n",
       "        text-align: right;\n",
       "    }\n",
       "</style>\n",
       "<table border=\"1\" class=\"dataframe\">\n",
       "  <thead>\n",
       "    <tr style=\"text-align: right;\">\n",
       "      <th></th>\n",
       "      <th>id</th>\n",
       "      <th>belongs_to_collection</th>\n",
       "      <th>budget</th>\n",
       "      <th>genres</th>\n",
       "      <th>homepage</th>\n",
       "      <th>imdb_id</th>\n",
       "      <th>original_language</th>\n",
       "      <th>original_title</th>\n",
       "      <th>overview</th>\n",
       "      <th>popularity</th>\n",
       "      <th>...</th>\n",
       "      <th>production_countries</th>\n",
       "      <th>release_date</th>\n",
       "      <th>runtime</th>\n",
       "      <th>spoken_languages</th>\n",
       "      <th>status</th>\n",
       "      <th>tagline</th>\n",
       "      <th>title</th>\n",
       "      <th>Keywords</th>\n",
       "      <th>cast</th>\n",
       "      <th>crew</th>\n",
       "    </tr>\n",
       "  </thead>\n",
       "  <tbody>\n",
       "    <tr>\n",
       "      <th>count</th>\n",
       "      <td>4398.000000</td>\n",
       "      <td>877</td>\n",
       "      <td>4.398000e+03</td>\n",
       "      <td>4382</td>\n",
       "      <td>1420</td>\n",
       "      <td>4398</td>\n",
       "      <td>4398</td>\n",
       "      <td>4398</td>\n",
       "      <td>4384</td>\n",
       "      <td>4398.000000</td>\n",
       "      <td>...</td>\n",
       "      <td>4296</td>\n",
       "      <td>4397</td>\n",
       "      <td>4394.000000</td>\n",
       "      <td>4356</td>\n",
       "      <td>4396</td>\n",
       "      <td>3535</td>\n",
       "      <td>4395</td>\n",
       "      <td>4005</td>\n",
       "      <td>4385</td>\n",
       "      <td>4376</td>\n",
       "    </tr>\n",
       "    <tr>\n",
       "      <th>unique</th>\n",
       "      <td>NaN</td>\n",
       "      <td>556</td>\n",
       "      <td>NaN</td>\n",
       "      <td>1101</td>\n",
       "      <td>1402</td>\n",
       "      <td>4398</td>\n",
       "      <td>39</td>\n",
       "      <td>4353</td>\n",
       "      <td>4383</td>\n",
       "      <td>NaN</td>\n",
       "      <td>...</td>\n",
       "      <td>458</td>\n",
       "      <td>3289</td>\n",
       "      <td>NaN</td>\n",
       "      <td>526</td>\n",
       "      <td>3</td>\n",
       "      <td>3529</td>\n",
       "      <td>4342</td>\n",
       "      <td>3885</td>\n",
       "      <td>4365</td>\n",
       "      <td>4376</td>\n",
       "    </tr>\n",
       "    <tr>\n",
       "      <th>top</th>\n",
       "      <td>NaN</td>\n",
       "      <td>[{'id': 645, 'name': 'James Bond Collection', ...</td>\n",
       "      <td>NaN</td>\n",
       "      <td>[{'id': 18, 'name': 'Drama'}]</td>\n",
       "      <td>http://www.thehungergames.movie/</td>\n",
       "      <td>tt1226251</td>\n",
       "      <td>en</td>\n",
       "      <td>Taxi</td>\n",
       "      <td>No overview found.</td>\n",
       "      <td>NaN</td>\n",
       "      <td>...</td>\n",
       "      <td>[{'iso_3166_1': 'US', 'name': 'United States o...</td>\n",
       "      <td>9/9/11</td>\n",
       "      <td>NaN</td>\n",
       "      <td>[{'iso_639_1': 'en', 'name': 'English'}]</td>\n",
       "      <td>Released</td>\n",
       "      <td>What could go wrong?</td>\n",
       "      <td>Julia</td>\n",
       "      <td>[{'id': 187056, 'name': 'woman director'}]</td>\n",
       "      <td>[]</td>\n",
       "      <td>[{'credit_id': '52fe44e7c3a368484e03d683', 'de...</td>\n",
       "    </tr>\n",
       "    <tr>\n",
       "      <th>freq</th>\n",
       "      <td>NaN</td>\n",
       "      <td>10</td>\n",
       "      <td>NaN</td>\n",
       "      <td>348</td>\n",
       "      <td>3</td>\n",
       "      <td>1</td>\n",
       "      <td>3776</td>\n",
       "      <td>2</td>\n",
       "      <td>2</td>\n",
       "      <td>NaN</td>\n",
       "      <td>...</td>\n",
       "      <td>2587</td>\n",
       "      <td>7</td>\n",
       "      <td>NaN</td>\n",
       "      <td>2704</td>\n",
       "      <td>4389</td>\n",
       "      <td>2</td>\n",
       "      <td>2</td>\n",
       "      <td>30</td>\n",
       "      <td>21</td>\n",
       "      <td>1</td>\n",
       "    </tr>\n",
       "    <tr>\n",
       "      <th>mean</th>\n",
       "      <td>5199.500000</td>\n",
       "      <td>NaN</td>\n",
       "      <td>2.264929e+07</td>\n",
       "      <td>NaN</td>\n",
       "      <td>NaN</td>\n",
       "      <td>NaN</td>\n",
       "      <td>NaN</td>\n",
       "      <td>NaN</td>\n",
       "      <td>NaN</td>\n",
       "      <td>8.550230</td>\n",
       "      <td>...</td>\n",
       "      <td>NaN</td>\n",
       "      <td>NaN</td>\n",
       "      <td>107.622212</td>\n",
       "      <td>NaN</td>\n",
       "      <td>NaN</td>\n",
       "      <td>NaN</td>\n",
       "      <td>NaN</td>\n",
       "      <td>NaN</td>\n",
       "      <td>NaN</td>\n",
       "      <td>NaN</td>\n",
       "    </tr>\n",
       "    <tr>\n",
       "      <th>std</th>\n",
       "      <td>1269.737571</td>\n",
       "      <td>NaN</td>\n",
       "      <td>3.689991e+07</td>\n",
       "      <td>NaN</td>\n",
       "      <td>NaN</td>\n",
       "      <td>NaN</td>\n",
       "      <td>NaN</td>\n",
       "      <td>NaN</td>\n",
       "      <td>NaN</td>\n",
       "      <td>12.209014</td>\n",
       "      <td>...</td>\n",
       "      <td>NaN</td>\n",
       "      <td>NaN</td>\n",
       "      <td>21.058290</td>\n",
       "      <td>NaN</td>\n",
       "      <td>NaN</td>\n",
       "      <td>NaN</td>\n",
       "      <td>NaN</td>\n",
       "      <td>NaN</td>\n",
       "      <td>NaN</td>\n",
       "      <td>NaN</td>\n",
       "    </tr>\n",
       "    <tr>\n",
       "      <th>min</th>\n",
       "      <td>3001.000000</td>\n",
       "      <td>NaN</td>\n",
       "      <td>0.000000e+00</td>\n",
       "      <td>NaN</td>\n",
       "      <td>NaN</td>\n",
       "      <td>NaN</td>\n",
       "      <td>NaN</td>\n",
       "      <td>NaN</td>\n",
       "      <td>NaN</td>\n",
       "      <td>0.000001</td>\n",
       "      <td>...</td>\n",
       "      <td>NaN</td>\n",
       "      <td>NaN</td>\n",
       "      <td>0.000000</td>\n",
       "      <td>NaN</td>\n",
       "      <td>NaN</td>\n",
       "      <td>NaN</td>\n",
       "      <td>NaN</td>\n",
       "      <td>NaN</td>\n",
       "      <td>NaN</td>\n",
       "      <td>NaN</td>\n",
       "    </tr>\n",
       "    <tr>\n",
       "      <th>25%</th>\n",
       "      <td>4100.250000</td>\n",
       "      <td>NaN</td>\n",
       "      <td>0.000000e+00</td>\n",
       "      <td>NaN</td>\n",
       "      <td>NaN</td>\n",
       "      <td>NaN</td>\n",
       "      <td>NaN</td>\n",
       "      <td>NaN</td>\n",
       "      <td>NaN</td>\n",
       "      <td>3.895186</td>\n",
       "      <td>...</td>\n",
       "      <td>NaN</td>\n",
       "      <td>NaN</td>\n",
       "      <td>94.000000</td>\n",
       "      <td>NaN</td>\n",
       "      <td>NaN</td>\n",
       "      <td>NaN</td>\n",
       "      <td>NaN</td>\n",
       "      <td>NaN</td>\n",
       "      <td>NaN</td>\n",
       "      <td>NaN</td>\n",
       "    </tr>\n",
       "    <tr>\n",
       "      <th>50%</th>\n",
       "      <td>5199.500000</td>\n",
       "      <td>NaN</td>\n",
       "      <td>7.450000e+06</td>\n",
       "      <td>NaN</td>\n",
       "      <td>NaN</td>\n",
       "      <td>NaN</td>\n",
       "      <td>NaN</td>\n",
       "      <td>NaN</td>\n",
       "      <td>NaN</td>\n",
       "      <td>7.482242</td>\n",
       "      <td>...</td>\n",
       "      <td>NaN</td>\n",
       "      <td>NaN</td>\n",
       "      <td>104.000000</td>\n",
       "      <td>NaN</td>\n",
       "      <td>NaN</td>\n",
       "      <td>NaN</td>\n",
       "      <td>NaN</td>\n",
       "      <td>NaN</td>\n",
       "      <td>NaN</td>\n",
       "      <td>NaN</td>\n",
       "    </tr>\n",
       "    <tr>\n",
       "      <th>75%</th>\n",
       "      <td>6298.750000</td>\n",
       "      <td>NaN</td>\n",
       "      <td>2.800000e+07</td>\n",
       "      <td>NaN</td>\n",
       "      <td>NaN</td>\n",
       "      <td>NaN</td>\n",
       "      <td>NaN</td>\n",
       "      <td>NaN</td>\n",
       "      <td>NaN</td>\n",
       "      <td>10.938524</td>\n",
       "      <td>...</td>\n",
       "      <td>NaN</td>\n",
       "      <td>NaN</td>\n",
       "      <td>118.000000</td>\n",
       "      <td>NaN</td>\n",
       "      <td>NaN</td>\n",
       "      <td>NaN</td>\n",
       "      <td>NaN</td>\n",
       "      <td>NaN</td>\n",
       "      <td>NaN</td>\n",
       "      <td>NaN</td>\n",
       "    </tr>\n",
       "    <tr>\n",
       "      <th>max</th>\n",
       "      <td>7398.000000</td>\n",
       "      <td>NaN</td>\n",
       "      <td>2.600000e+08</td>\n",
       "      <td>NaN</td>\n",
       "      <td>NaN</td>\n",
       "      <td>NaN</td>\n",
       "      <td>NaN</td>\n",
       "      <td>NaN</td>\n",
       "      <td>NaN</td>\n",
       "      <td>547.488298</td>\n",
       "      <td>...</td>\n",
       "      <td>NaN</td>\n",
       "      <td>NaN</td>\n",
       "      <td>320.000000</td>\n",
       "      <td>NaN</td>\n",
       "      <td>NaN</td>\n",
       "      <td>NaN</td>\n",
       "      <td>NaN</td>\n",
       "      <td>NaN</td>\n",
       "      <td>NaN</td>\n",
       "      <td>NaN</td>\n",
       "    </tr>\n",
       "  </tbody>\n",
       "</table>\n",
       "<p>11 rows × 22 columns</p>\n",
       "</div>"
      ],
      "text/plain": [
       "                 id                              belongs_to_collection  \\\n",
       "count   4398.000000                                                877   \n",
       "unique          NaN                                                556   \n",
       "top             NaN  [{'id': 645, 'name': 'James Bond Collection', ...   \n",
       "freq            NaN                                                 10   \n",
       "mean    5199.500000                                                NaN   \n",
       "std     1269.737571                                                NaN   \n",
       "min     3001.000000                                                NaN   \n",
       "25%     4100.250000                                                NaN   \n",
       "50%     5199.500000                                                NaN   \n",
       "75%     6298.750000                                                NaN   \n",
       "max     7398.000000                                                NaN   \n",
       "\n",
       "              budget                         genres  \\\n",
       "count   4.398000e+03                           4382   \n",
       "unique           NaN                           1101   \n",
       "top              NaN  [{'id': 18, 'name': 'Drama'}]   \n",
       "freq             NaN                            348   \n",
       "mean    2.264929e+07                            NaN   \n",
       "std     3.689991e+07                            NaN   \n",
       "min     0.000000e+00                            NaN   \n",
       "25%     0.000000e+00                            NaN   \n",
       "50%     7.450000e+06                            NaN   \n",
       "75%     2.800000e+07                            NaN   \n",
       "max     2.600000e+08                            NaN   \n",
       "\n",
       "                                homepage    imdb_id original_language  \\\n",
       "count                               1420       4398              4398   \n",
       "unique                              1402       4398                39   \n",
       "top     http://www.thehungergames.movie/  tt1226251                en   \n",
       "freq                                   3          1              3776   \n",
       "mean                                 NaN        NaN               NaN   \n",
       "std                                  NaN        NaN               NaN   \n",
       "min                                  NaN        NaN               NaN   \n",
       "25%                                  NaN        NaN               NaN   \n",
       "50%                                  NaN        NaN               NaN   \n",
       "75%                                  NaN        NaN               NaN   \n",
       "max                                  NaN        NaN               NaN   \n",
       "\n",
       "       original_title            overview   popularity  ...  \\\n",
       "count            4398                4384  4398.000000  ...   \n",
       "unique           4353                4383          NaN  ...   \n",
       "top              Taxi  No overview found.          NaN  ...   \n",
       "freq                2                   2          NaN  ...   \n",
       "mean              NaN                 NaN     8.550230  ...   \n",
       "std               NaN                 NaN    12.209014  ...   \n",
       "min               NaN                 NaN     0.000001  ...   \n",
       "25%               NaN                 NaN     3.895186  ...   \n",
       "50%               NaN                 NaN     7.482242  ...   \n",
       "75%               NaN                 NaN    10.938524  ...   \n",
       "max               NaN                 NaN   547.488298  ...   \n",
       "\n",
       "                                     production_countries release_date  \\\n",
       "count                                                4296         4397   \n",
       "unique                                                458         3289   \n",
       "top     [{'iso_3166_1': 'US', 'name': 'United States o...       9/9/11   \n",
       "freq                                                 2587            7   \n",
       "mean                                                  NaN          NaN   \n",
       "std                                                   NaN          NaN   \n",
       "min                                                   NaN          NaN   \n",
       "25%                                                   NaN          NaN   \n",
       "50%                                                   NaN          NaN   \n",
       "75%                                                   NaN          NaN   \n",
       "max                                                   NaN          NaN   \n",
       "\n",
       "            runtime                          spoken_languages    status  \\\n",
       "count   4394.000000                                      4356      4396   \n",
       "unique          NaN                                       526         3   \n",
       "top             NaN  [{'iso_639_1': 'en', 'name': 'English'}]  Released   \n",
       "freq            NaN                                      2704      4389   \n",
       "mean     107.622212                                       NaN       NaN   \n",
       "std       21.058290                                       NaN       NaN   \n",
       "min        0.000000                                       NaN       NaN   \n",
       "25%       94.000000                                       NaN       NaN   \n",
       "50%      104.000000                                       NaN       NaN   \n",
       "75%      118.000000                                       NaN       NaN   \n",
       "max      320.000000                                       NaN       NaN   \n",
       "\n",
       "                     tagline  title  \\\n",
       "count                   3535   4395   \n",
       "unique                  3529   4342   \n",
       "top     What could go wrong?  Julia   \n",
       "freq                       2      2   \n",
       "mean                     NaN    NaN   \n",
       "std                      NaN    NaN   \n",
       "min                      NaN    NaN   \n",
       "25%                      NaN    NaN   \n",
       "50%                      NaN    NaN   \n",
       "75%                      NaN    NaN   \n",
       "max                      NaN    NaN   \n",
       "\n",
       "                                          Keywords  cast  \\\n",
       "count                                         4005  4385   \n",
       "unique                                        3885  4365   \n",
       "top     [{'id': 187056, 'name': 'woman director'}]    []   \n",
       "freq                                            30    21   \n",
       "mean                                           NaN   NaN   \n",
       "std                                            NaN   NaN   \n",
       "min                                            NaN   NaN   \n",
       "25%                                            NaN   NaN   \n",
       "50%                                            NaN   NaN   \n",
       "75%                                            NaN   NaN   \n",
       "max                                            NaN   NaN   \n",
       "\n",
       "                                                     crew  \n",
       "count                                                4376  \n",
       "unique                                               4376  \n",
       "top     [{'credit_id': '52fe44e7c3a368484e03d683', 'de...  \n",
       "freq                                                    1  \n",
       "mean                                                  NaN  \n",
       "std                                                   NaN  \n",
       "min                                                   NaN  \n",
       "25%                                                   NaN  \n",
       "50%                                                   NaN  \n",
       "75%                                                   NaN  \n",
       "max                                                   NaN  \n",
       "\n",
       "[11 rows x 22 columns]"
      ]
     },
     "execution_count": 810,
     "metadata": {},
     "output_type": "execute_result"
    }
   ],
   "source": [
    "test.describe(include='all')"
   ]
  },
  {
   "cell_type": "markdown",
   "id": "4f57ec12-890c-4f16-a9f8-014f5d18a911",
   "metadata": {},
   "source": [
    "Ved å bruke describe får vi en oppsummering av de numeriske attributtene. Vi får også nyttige verdier slik som gjennomsnitt, min, max og std (standard deviation)."
   ]
  },
  {
   "cell_type": "markdown",
   "id": "a142a3a1-b132-4a59-85e8-c205e470ca5a",
   "metadata": {},
   "source": [
    "Nå har vi blitt litt kjent med test- og treningssettet vårt, og vi ser at testsettet inneholder flere verdier (ca. 1/3 mer), noe som gir et godt utgangspunkt for å løse denne oppgaven."
   ]
  },
  {
   "cell_type": "markdown",
   "id": "78c1fec7-35de-4ecc-9440-3f12295c9d19",
   "metadata": {},
   "source": [
    "## Gjennomgang av data"
   ]
  },
  {
   "cell_type": "markdown",
   "id": "0ff611f9-4e11-435c-93ea-f4ca2b26e749",
   "metadata": {},
   "source": [
    "Vi ønsker å sjekke hvilke attributter som mangler verdier, ved å finne antall null-verdier."
   ]
  },
  {
   "cell_type": "code",
   "execution_count": 811,
   "id": "f0f00ed6-b0d8-49c1-a33a-ae2d5202b7bd",
   "metadata": {},
   "outputs": [
    {
     "data": {
      "text/plain": [
       "id                          0\n",
       "belongs_to_collection    2396\n",
       "budget                      0\n",
       "genres                      7\n",
       "homepage                 2054\n",
       "imdb_id                     0\n",
       "original_language           0\n",
       "original_title              0\n",
       "overview                    8\n",
       "popularity                  0\n",
       "poster_path                 1\n",
       "production_companies      156\n",
       "production_countries       55\n",
       "release_date                0\n",
       "runtime                     2\n",
       "spoken_languages           20\n",
       "status                      0\n",
       "tagline                   597\n",
       "title                       0\n",
       "Keywords                  276\n",
       "cast                       13\n",
       "crew                       16\n",
       "revenue                     0\n",
       "dtype: int64"
      ]
     },
     "execution_count": 811,
     "metadata": {},
     "output_type": "execute_result"
    }
   ],
   "source": [
    "train.isnull().sum()"
   ]
  },
  {
   "cell_type": "code",
   "execution_count": 812,
   "id": "814610d3-3994-4e8f-8af6-6a9e1a50be13",
   "metadata": {},
   "outputs": [
    {
     "data": {
      "text/plain": [
       "id                          0\n",
       "belongs_to_collection    3521\n",
       "budget                      0\n",
       "genres                     16\n",
       "homepage                 2978\n",
       "imdb_id                     0\n",
       "original_language           0\n",
       "original_title              0\n",
       "overview                   14\n",
       "popularity                  0\n",
       "poster_path                 1\n",
       "production_companies      258\n",
       "production_countries      102\n",
       "release_date                1\n",
       "runtime                     4\n",
       "spoken_languages           42\n",
       "status                      2\n",
       "tagline                   863\n",
       "title                       3\n",
       "Keywords                  393\n",
       "cast                       13\n",
       "crew                       22\n",
       "dtype: int64"
      ]
     },
     "execution_count": 812,
     "metadata": {},
     "output_type": "execute_result"
    }
   ],
   "source": [
    "test.isnull().sum()"
   ]
  },
  {
   "cell_type": "markdown",
   "id": "668f0834-f26a-4daa-b9de-d44518726c9b",
   "metadata": {},
   "source": [
    "Vi ser at det er flere attributter som mangler verdier. Dette vet vi at vi er nødt til å gjøre noe med, og derfor tar vi en nærmere titt på attributtene som har null-verdier."
   ]
  },
  {
   "cell_type": "markdown",
   "id": "10997518-b00f-413c-827f-4b2654eaf718",
   "metadata": {},
   "source": [
    "## Rensing av data"
   ]
  },
  {
   "cell_type": "markdown",
   "id": "d5e9d09a-1d73-4d13-abeb-921563482088",
   "metadata": {},
   "source": [
    "#### SPRÅK"
   ]
  },
  {
   "cell_type": "code",
   "execution_count": 813,
   "id": "7b5908bf-2b61-49bd-9fc9-32fa60f8fa2b",
   "metadata": {},
   "outputs": [
    {
     "data": {
      "text/plain": [
       "Text(0.5, 1.0, 'Original Language and Revenue')"
      ]
     },
     "execution_count": 813,
     "metadata": {},
     "output_type": "execute_result"
    },
    {
     "data": {
      "text/plain": [
       "Text(0.5, 0, 'Revenue')"
      ]
     },
     "execution_count": 813,
     "metadata": {},
     "output_type": "execute_result"
    },
    {
     "data": {
      "text/plain": [
       "Text(0, 0.5, 'Original Language')"
      ]
     },
     "execution_count": 813,
     "metadata": {},
     "output_type": "execute_result"
    },
    {
     "data": {
      "text/plain": [
       "<AxesSubplot:title={'center':'Original Language and Revenue'}, xlabel='revenue', ylabel='original_language'>"
      ]
     },
     "execution_count": 813,
     "metadata": {},
     "output_type": "execute_result"
    },
    {
     "data": {
      "image/png": "[encoded data removed]",
      "text/plain": [
       "<Figure size 1080x1080 with 1 Axes>"
      ]
     },
     "metadata": {},
     "output_type": "display_data"
    }
   ],
   "source": [
    "fig, ax = plt.subplots(figsize=(15, 15))\n",
    "ax.tick_params(axis='both', labelsize=12)\n",
    "plt.title('Original Language and Revenue', fontsize=20)\n",
    "plt.xlabel('Revenue', fontsize=16)\n",
    "plt.ylabel('Original Language', fontsize=16)\n",
    "sns.boxplot(ax=ax, x='revenue', y='original_language', data=train, showfliers=False, orient='h')\n",
    "plt.show()"
   ]
  },
  {
   "cell_type": "markdown",
   "id": "e08b0d79-f8ab-47e5-893f-99482820c000",
   "metadata": {},
   "source": [
    "Her ser vi at noen språk generer mer omsetning enn andre, de mest merkbare er engelsk, kinesisk og tyrkisk."
   ]
  },
  {
   "cell_type": "code",
   "execution_count": 814,
   "id": "898e40dc-3786-40e7-8e33-861150c406cc",
   "metadata": {},
   "outputs": [
    {
     "data": {
      "text/plain": [
       "<Figure size 1080x792 with 0 Axes>"
      ]
     },
     "execution_count": 814,
     "metadata": {},
     "output_type": "execute_result"
    },
    {
     "data": {
      "text/plain": [
       "Text(0.5, 1.0, 'Omsetning basert på språk')"
      ]
     },
     "execution_count": 814,
     "metadata": {},
     "output_type": "execute_result"
    },
    {
     "data": {
      "text/plain": [
       "[Text(0, 0, 'en'),\n",
       " Text(1, 0, 'hi'),\n",
       " Text(2, 0, 'ko'),\n",
       " Text(3, 0, 'fr'),\n",
       " Text(4, 0, 'it'),\n",
       " Text(5, 0, 'zh'),\n",
       " Text(6, 0, 'es'),\n",
       " Text(7, 0, 'cn'),\n",
       " Text(8, 0, 'ru'),\n",
       " Text(9, 0, 'ja')]"
      ]
     },
     "execution_count": 814,
     "metadata": {},
     "output_type": "execute_result"
    },
    {
     "data": {
      "text/plain": [
       "Text(0.5, 0, 'Språk')"
      ]
     },
     "execution_count": 814,
     "metadata": {},
     "output_type": "execute_result"
    },
    {
     "data": {
      "text/plain": [
       "Text(0, 0.5, 'Omsetning')"
      ]
     },
     "execution_count": 814,
     "metadata": {},
     "output_type": "execute_result"
    },
    {
     "data": {
      "image/png": "[encoded data removed]",
      "text/plain": [
       "<Figure size 1080x792 with 1 Axes>"
      ]
     },
     "metadata": {},
     "output_type": "display_data"
    }
   ],
   "source": [
    "# Påvirkningsgrad av språk knyttet til omsetning\n",
    "plt.figure(figsize=(15,11)) #figure size\n",
    "\n",
    "g1 = sns.boxenplot(x='original_language', y='revenue', \n",
    "                   data=train[(train['original_language'].isin((train['original_language'].sort_values().value_counts()[:10].index.values)))])\n",
    "g1.set_title(\"Omsetning basert på språk\", fontsize=20) \n",
    "g1.set_xticklabels(g1.get_xticklabels(),rotation=45)\n",
    "g1.set_xlabel('Språk', fontsize=18)\n",
    "g1.set_ylabel('Omsetning', fontsize=18)\n",
    "\n",
    "plt.show()"
   ]
  },
  {
   "cell_type": "markdown",
   "id": "67f8af88-0398-430d-9beb-557127dae464",
   "metadata": {},
   "source": [
    "Ved hjelp av dette blir det enda tydeligere hvilke språk som kan ha en innvirkning på omsetningen til en film, og vi velger derfor å ta med engelsk og kinesisk videre inn i modellen."
   ]
  },
  {
   "cell_type": "code",
   "execution_count": 815,
   "id": "35c06ead-bf7e-41fa-8395-7be669ff6d93",
   "metadata": {},
   "outputs": [],
   "source": [
    "train['original_language'] = train['original_language'].apply(lambda x: 1 if x=='en' else(2 if x=='zh' else 0))\n",
    "test['original_language'] = test['original_language'].apply(lambda x: 1 if x=='en' else(2 if x=='zh' else 0))"
   ]
  },
  {
   "cell_type": "markdown",
   "id": "da78ecfe-f5e9-4629-a199-0969fc535c29",
   "metadata": {},
   "source": [
    "#### SJANGER"
   ]
  },
  {
   "cell_type": "code",
   "execution_count": 816,
   "id": "1c3bada4-1fa3-4777-881c-ff8cea68dd97",
   "metadata": {},
   "outputs": [
    {
     "data": {
      "image/png": "[encoded data removed]",
      "text/plain": [
       "<Figure size 360x360 with 1 Axes>"
      ]
     },
     "metadata": {},
     "output_type": "display_data"
    }
   ],
   "source": [
    "genres_count=[]\n",
    "for i in train['genres']:\n",
    "    if(not(pd.isnull(i))):\n",
    "        \n",
    "        genres_count.append(len(eval(i)))\n",
    "        \n",
    "    else:\n",
    "        genres_count.append(0)\n",
    "train['num_genres'] = genres_count\n",
    "\n",
    "#Genres v/s revenue\n",
    "sns.catplot(x='num_genres', y='revenue', data=train);\n",
    "plt.title('Omsetning for antall sjanger per film');"
   ]
  },
  {
   "cell_type": "markdown",
   "id": "39d5d9f3-a593-4879-b483-0988d0f8c6d5",
   "metadata": {},
   "source": [
    "Da sjanger er en objekt-variabel, ønsker vi å gjøre denne numerisk. Vi velger derfor å se på antall sjangre per film, og knytter dette opp mot omsetning. "
   ]
  },
  {
   "cell_type": "code",
   "execution_count": 817,
   "id": "ae1bd0b3-1f9d-4f8d-b747-d0365d470365",
   "metadata": {},
   "outputs": [],
   "source": [
    "genres_count_test=[]\n",
    "for i in test['genres']:\n",
    "    if(not(pd.isnull(i))):\n",
    "        \n",
    "        genres_count_test.append(len(eval(i)))\n",
    "        \n",
    "    else:\n",
    "        genres_count_test.append(0)\n",
    "test['num_genres'] = genres_count_test"
   ]
  },
  {
   "cell_type": "markdown",
   "id": "f06ab013-984c-4dd7-b718-f27525b77a5e",
   "metadata": {},
   "source": [
    "Legger antall sjangere i testsettet vårt."
   ]
  },
  {
   "cell_type": "code",
   "execution_count": 818,
   "id": "b1da794e-a030-49c5-b0ae-913227bb6da4",
   "metadata": {},
   "outputs": [],
   "source": [
    "train.drop(['genres'],axis=1, inplace = True)\n",
    "test.drop(['genres'],axis=1, inplace = True)"
   ]
  },
  {
   "cell_type": "markdown",
   "id": "214de32c-aa83-42da-b92b-f599eab05122",
   "metadata": {},
   "source": [
    "Dropper den originale sjanger attributten."
   ]
  },
  {
   "cell_type": "markdown",
   "id": "5cda2656-7090-403e-8b99-bd9dae0d347c",
   "metadata": {},
   "source": [
    "#### PRODUKSJONSSELSKAP"
   ]
  },
  {
   "cell_type": "code",
   "execution_count": 819,
   "id": "9b2f65c5-1f91-4627-b382-b7f5cdc4ffba",
   "metadata": {},
   "outputs": [
    {
     "data": {
      "text/plain": [
       "<seaborn.axisgrid.FacetGrid at 0x23149e3f1c0>"
      ]
     },
     "execution_count": 819,
     "metadata": {},
     "output_type": "execute_result"
    },
    {
     "data": {
      "text/plain": [
       "Text(0.5, 1.0, 'Inntekt for antall produksjons selskaper i filmene')"
      ]
     },
     "execution_count": 819,
     "metadata": {},
     "output_type": "execute_result"
    },
    {
     "data": {
      "image/png": "[encoded data removed]",
      "text/plain": [
       "<Figure size 360x360 with 1 Axes>"
      ]
     },
     "metadata": {},
     "output_type": "display_data"
    }
   ],
   "source": [
    "prod_comp_count=[]\n",
    "for i in train['production_companies']:\n",
    "    if(not(pd.isnull(i))):\n",
    "        \n",
    "        prod_comp_count.append(len(eval(i)))\n",
    "        \n",
    "    else:\n",
    "        prod_comp_count.append(0)\n",
    "train['num_prod_companies'] = prod_comp_count\n",
    "\n",
    "sns.catplot(x='num_prod_companies', y='revenue', data=train)\n",
    "plt.title('Inntekt for antall produksjons selskaper i filmene')"
   ]
  },
  {
   "cell_type": "markdown",
   "id": "c31010f6-6ece-4c25-b032-f240e79cc16c",
   "metadata": {},
   "source": [
    "På lik måte som sjanger er produksjonsselskap også en objekt-variabel. Det blir derfor samme fremgangsmåte - vi sammenligner antall produksjonsselskap med omsetning til en film. "
   ]
  },
  {
   "cell_type": "code",
   "execution_count": 820,
   "id": "7ce22ae2-63a8-403e-9dff-1c73f49caada",
   "metadata": {},
   "outputs": [],
   "source": [
    "#Adding production_companies count for  test data\n",
    "prod_comp_count_test=[]\n",
    "for i in test['production_companies']:\n",
    "    if(not(pd.isnull(i))):\n",
    "        \n",
    "        prod_comp_count_test.append(len(eval(i)))\n",
    "        \n",
    "    else:\n",
    "        prod_comp_count_test.append(0)\n",
    "test['num_prod_companies'] = prod_comp_count_test"
   ]
  },
  {
   "cell_type": "markdown",
   "id": "fb8547ae-6014-4efe-ba9d-3d2ab18f2dbe",
   "metadata": {},
   "source": [
    "Legger antall produksjonsselskap til i testsettet vårt."
   ]
  },
  {
   "cell_type": "markdown",
   "id": "dc97915f-a86d-4a20-be7b-0d07b722090f",
   "metadata": {},
   "source": [
    "Nå som vi har en oversikt kan vi droppe de gamle variablene."
   ]
  },
  {
   "cell_type": "code",
   "execution_count": 821,
   "id": "5aa53212-7cc0-40ff-98c0-20830e40930e",
   "metadata": {
    "tags": []
   },
   "outputs": [],
   "source": [
    "train.drop(['production_companies'],axis=1, inplace = True)\n",
    "test.drop(['production_companies'],axis=1, inplace = True)"
   ]
  },
  {
   "cell_type": "markdown",
   "id": "bbe45bf4-72e1-400b-9acf-e9b015e2667f",
   "metadata": {},
   "source": [
    "#### PRODUKSJONSLAND"
   ]
  },
  {
   "cell_type": "markdown",
   "id": "38d06f7a-7dec-41fc-bc04-1286f357814a",
   "metadata": {},
   "source": [
    "Det er samme fremgangsmåte som de tidligere nevnte attributtene"
   ]
  },
  {
   "cell_type": "code",
   "execution_count": 822,
   "id": "cf3bb813-1c6f-45da-956b-c7c8ad790e86",
   "metadata": {},
   "outputs": [
    {
     "data": {
      "image/png": "[encoded data removed]",
      "text/plain": [
       "<Figure size 360x360 with 1 Axes>"
      ]
     },
     "metadata": {},
     "output_type": "display_data"
    }
   ],
   "source": [
    "prod_coun_count=[]\n",
    "for i in train['production_countries']:\n",
    "    if(not(pd.isnull(i))):\n",
    "        \n",
    "        prod_coun_count.append(len(eval(i)))\n",
    "        \n",
    "    else:\n",
    "        prod_coun_count.append(0)\n",
    "train['num_prod_countries'] = prod_coun_count\n",
    "\n",
    "#number of prod countries vs revenue\n",
    "sns.catplot(x='num_prod_countries', y='revenue', data=train);\n",
    "plt.title('Omsetning for filmer basert på antall produksjonsland');"
   ]
  },
  {
   "cell_type": "code",
   "execution_count": 823,
   "id": "9da3a147-c375-4018-b243-8f1895515b3d",
   "metadata": {},
   "outputs": [],
   "source": [
    "prod_coun_count_test=[]\n",
    "for i in test['production_countries']:\n",
    "    if(not(pd.isnull(i))):\n",
    "        \n",
    "        prod_coun_count_test.append(len(eval(i)))\n",
    "        \n",
    "    else:\n",
    "        prod_coun_count_test.append(0)\n",
    "test['num_prod_countries'] = prod_coun_count_test"
   ]
  },
  {
   "cell_type": "code",
   "execution_count": 824,
   "id": "b967b9b3-ac6b-40f8-bd74-8e117587ff78",
   "metadata": {},
   "outputs": [],
   "source": [
    "train.drop(['production_countries'],axis=1, inplace = True)\n",
    "test.drop(['production_countries'],axis=1, inplace = True)"
   ]
  },
  {
   "cell_type": "markdown",
   "id": "24701f33-02dd-44b2-a8fd-71c9dd279662",
   "metadata": {},
   "source": [
    "#### HOMEPAGE"
   ]
  },
  {
   "cell_type": "markdown",
   "id": "6b2f295b-b960-4c67-b508-a67760e90992",
   "metadata": {},
   "source": [
    "Homepage er en av variablene med flest null-verdier."
   ]
  },
  {
   "cell_type": "code",
   "execution_count": 825,
   "id": "85c39117-b5e6-4887-9016-8309e3407ba8",
   "metadata": {},
   "outputs": [
    {
     "data": {
      "image/png": "[encoded data removed]",
      "text/plain": [
       "<Figure size 360x360 with 1 Axes>"
      ]
     },
     "metadata": {},
     "output_type": "display_data"
    }
   ],
   "source": [
    "train['has_homepage'] = 0\n",
    "train.loc[train['homepage'].isnull() == False, 'has_homepage'] = 1\n",
    "test['has_homepage'] = 0\n",
    "test.loc[test['homepage'].isnull() == False, 'has_homepage'] = 1\n",
    "\n",
    "sns.catplot(x='has_homepage', y='revenue', data=train);\n",
    "plt.title('Omsetning for filmer med og uten homepage');"
   ]
  },
  {
   "cell_type": "markdown",
   "id": "ef7b4503-46ae-4f99-88a9-06af77863552",
   "metadata": {},
   "source": [
    "Velger å gjøre attributten om til binære tall - har du homepage = 1, har du ikke = 0. Sammenligner dette med omsetning, og ser at dette vil ha svært liten påvirkningsgrad til hvor god omsetning en film vil ha."
   ]
  },
  {
   "cell_type": "code",
   "execution_count": 826,
   "id": "fb2dfd34-e714-47f8-b61e-c9ba47ab2483",
   "metadata": {},
   "outputs": [],
   "source": [
    "train = train.drop(['homepage'],axis =1)\n",
    "test = test.drop(['homepage'],axis =1)"
   ]
  },
  {
   "cell_type": "markdown",
   "id": "b64116d8-11d6-47e1-82e9-050b5d405c88",
   "metadata": {},
   "source": [
    "Dropper derfor homepage, da det virker urelevant for datasettet. "
   ]
  },
  {
   "cell_type": "markdown",
   "id": "a0a1c172-3ef0-43c5-93a1-496f1e978d05",
   "metadata": {},
   "source": [
    "#### COLLECTIONS"
   ]
  },
  {
   "cell_type": "markdown",
   "id": "fc35ab11-2b8d-4eb4-926d-9bc0657544cf",
   "metadata": {},
   "source": [
    "Her kjører vi samme fremgangsmåte som med homepage - vi gjør dataene om til binært."
   ]
  },
  {
   "cell_type": "code",
   "execution_count": 827,
   "id": "9ae5ec1d-1982-49fb-9d04-178a44a53fd5",
   "metadata": {},
   "outputs": [
    {
     "data": {
      "image/png": "[encoded data removed]",
      "text/plain": [
       "<Figure size 360x360 with 1 Axes>"
      ]
     },
     "metadata": {},
     "output_type": "display_data"
    }
   ],
   "source": [
    "train['collection'] = 0\n",
    "train.loc[train['belongs_to_collection'].isnull() == False, 'collection'] = 1\n",
    "test['collection'] = 0\n",
    "test.loc[test['belongs_to_collection'].isnull() == False, 'collection'] = 1\n",
    "\n",
    "sns.catplot(x='collection', y='revenue', data=train);\n",
    "plt.title('Omsetning for filmer med og uten collections');"
   ]
  },
  {
   "cell_type": "markdown",
   "id": "c6509439-b473-43fb-a773-de90f8566910",
   "metadata": {},
   "source": [
    "Tolker utfallet, og ser at det igjen ikke vil ha særlig stor innvirkning på kalkulasjonene. Dropper attributten."
   ]
  },
  {
   "cell_type": "code",
   "execution_count": 828,
   "id": "fde0208c-171b-4c0f-9171-4f3ce32e1ec8",
   "metadata": {},
   "outputs": [],
   "source": [
    "train=train.drop(['belongs_to_collection'],axis =1)\n",
    "test=test.drop(['belongs_to_collection'],axis =1)"
   ]
  },
  {
   "cell_type": "markdown",
   "id": "fab43359-72e7-441c-b404-9265c11d1612",
   "metadata": {},
   "source": [
    "Dropper der denne ikke kommer til å utvirke noen forskjell for oss"
   ]
  },
  {
   "cell_type": "markdown",
   "id": "cc84d5a6-7fea-4b52-af46-48744b37dde5",
   "metadata": {},
   "source": [
    "#### BESKRIVELSE"
   ]
  },
  {
   "cell_type": "code",
   "execution_count": 829,
   "id": "9a6c7fe5-dde0-406a-b135-aeba35abc233",
   "metadata": {},
   "outputs": [
    {
     "data": {
      "image/png": "[encoded data removed]",
      "text/plain": [
       "<Figure size 360x360 with 1 Axes>"
      ]
     },
     "metadata": {},
     "output_type": "display_data"
    }
   ],
   "source": [
    "train['overview']=train['overview'].apply(lambda x: 0 if pd.isnull(x) else 1)\n",
    "test['overview']=test['overview'].apply(lambda x: 0 if pd.isnull(x) else 1)\n",
    "sns.catplot(x='overview', y='revenue', data=train);\n",
    "plt.title('Omsetning for filmer med og uten beskrivelse');"
   ]
  },
  {
   "cell_type": "code",
   "execution_count": 830,
   "id": "8acf2442-80da-4436-9866-38dfddf67104",
   "metadata": {},
   "outputs": [],
   "source": [
    "train = train.drop(['overview'],axis=1)\n",
    "test = test.drop(['overview'],axis=1)"
   ]
  },
  {
   "cell_type": "markdown",
   "id": "5538d568-5108-41f2-83c7-47f7ffa014e8",
   "metadata": {},
   "source": [
    "Som de to tidligere attributtene sitter vi igjen med samme konklusjon, og vi tar altså ikke med oss overview-attributten med videre. "
   ]
  },
  {
   "cell_type": "markdown",
   "id": "14c24525-a7ed-4942-b446-2853ec29c238",
   "metadata": {},
   "source": [
    "#### ROLLEBESETNING"
   ]
  },
  {
   "cell_type": "markdown",
   "id": "354e30a5-08d2-4b7a-bed2-d628c738cd13",
   "metadata": {},
   "source": [
    "Fremfor å behandle dataene som hvilken rollebesetning som er med i en film, manipulerer vi de til å være antall rollebesetninger per film. Dette gjør vi for både test- og treningssettet vårt."
   ]
  },
  {
   "cell_type": "code",
   "execution_count": 831,
   "id": "f84e35fe-c2d8-4eb8-a967-7dc407d28f64",
   "metadata": {},
   "outputs": [],
   "source": [
    "total_cast=[]\n",
    "for i in train['cast']:\n",
    "    if(not(pd.isnull(i))):\n",
    "        \n",
    "        total_cast.append(len(eval(i)))\n",
    "        \n",
    "    else:\n",
    "        total_cast.append(0)\n",
    "train['cast_count'] = total_cast"
   ]
  },
  {
   "cell_type": "code",
   "execution_count": 832,
   "id": "8ca8d359-72c9-4337-ac73-2324d4b0fbbb",
   "metadata": {
    "tags": []
   },
   "outputs": [
    {
     "data": {
      "image/png": "[encoded data removed]",
      "text/plain": [
       "<Figure size 1152x576 with 1 Axes>"
      ]
     },
     "metadata": {},
     "output_type": "display_data"
    }
   ],
   "source": [
    "plt.figure(figsize=(16, 8))\n",
    "plt.subplot(1, 2, 1)\n",
    "plt.scatter(train['cast_count'], train['revenue'])\n",
    "plt.title('Antall rollebesetninger sammenlignet med omsetning');"
   ]
  },
  {
   "cell_type": "code",
   "execution_count": 833,
   "id": "03702cc8-7920-4bed-9cd9-656920bb2f93",
   "metadata": {},
   "outputs": [],
   "source": [
    "total_cast=[]\n",
    "for i in test['cast']:\n",
    "    if(not(pd.isnull(i))):\n",
    "        \n",
    "        total_cast.append(len(eval(i)))\n",
    "        \n",
    "    else:\n",
    "        total_cast.append(0)\n",
    "test['cast_count'] = total_cast"
   ]
  },
  {
   "cell_type": "code",
   "execution_count": 834,
   "id": "6b11d63a-ada2-4443-bd4a-00d0969fd5c1",
   "metadata": {},
   "outputs": [],
   "source": [
    "train = train.drop(['cast'],axis=1)\n",
    "test = test.drop(['cast'],axis=1)"
   ]
  },
  {
   "cell_type": "markdown",
   "id": "4f6b3c76-0654-4b05-bcc8-46136b8aede0",
   "metadata": {},
   "source": [
    "Dropper den opprinnelige cast-attributten."
   ]
  },
  {
   "cell_type": "markdown",
   "id": "6801d6a1-69b0-43fd-8ae3-226c19d214a8",
   "metadata": {},
   "source": [
    "#### CREW"
   ]
  },
  {
   "cell_type": "markdown",
   "id": "ae8d2f67-20ba-464e-87fc-94ed6b614bc7",
   "metadata": {},
   "source": [
    "Denne attributten blir modifisert på samme måte som rollebesetning. Same same..."
   ]
  },
  {
   "cell_type": "code",
   "execution_count": 835,
   "id": "1dda2e98-9e2b-4a65-8cde-d866f872efa6",
   "metadata": {},
   "outputs": [],
   "source": [
    "total_crew=[]\n",
    "for i in train['crew']:\n",
    "    if(not(pd.isnull(i))):\n",
    "        \n",
    "        total_crew.append(len(eval(i)))\n",
    "        \n",
    "    else:\n",
    "        total_crew.append(0)\n",
    "train['crew_count'] = total_crew"
   ]
  },
  {
   "cell_type": "code",
   "execution_count": 836,
   "id": "82d494d8-15ba-40e3-bac8-12347c075df2",
   "metadata": {},
   "outputs": [
    {
     "data": {
      "image/png": "[encoded data removed]",
      "text/plain": [
       "<Figure size 1152x576 with 1 Axes>"
      ]
     },
     "metadata": {},
     "output_type": "display_data"
    }
   ],
   "source": [
    "plt.figure(figsize=(16, 8))\n",
    "plt.subplot(1, 2, 1)\n",
    "plt.scatter(train['crew_count'], train['revenue'])\n",
    "plt.title('Antall crew medlemmer sammenlignet med omsetning');"
   ]
  },
  {
   "cell_type": "code",
   "execution_count": 837,
   "id": "6207a8b1-0037-4577-a825-196f66764e59",
   "metadata": {},
   "outputs": [],
   "source": [
    "total_crew=[]\n",
    "for i in test['crew']:\n",
    "    if(not(pd.isnull(i))):\n",
    "        \n",
    "        total_crew.append(len(eval(i)))\n",
    "        \n",
    "    else:\n",
    "        total_crew.append(0)\n",
    "test['crew_count'] = total_crew"
   ]
  },
  {
   "cell_type": "code",
   "execution_count": 838,
   "id": "340da91e-76ed-482f-82a6-57049eff05e6",
   "metadata": {},
   "outputs": [],
   "source": [
    "train = train.drop(['crew'],axis=1)\n",
    "test = test.drop(['crew'],axis=1)"
   ]
  },
  {
   "cell_type": "markdown",
   "id": "998e5ee7-5827-4832-98d4-a89782618140",
   "metadata": {},
   "source": [
    "#### NØKKELORD"
   ]
  },
  {
   "cell_type": "code",
   "execution_count": 839,
   "id": "6a89d3a3-e83b-4151-8f5e-7ff46d01769a",
   "metadata": {},
   "outputs": [
    {
     "data": {
      "image/png": "[encoded data removed]",
      "text/plain": [
       "<Figure size 360x360 with 1 Axes>"
      ]
     },
     "metadata": {},
     "output_type": "display_data"
    }
   ],
   "source": [
    "Keywords_count=[]\n",
    "for i in train['Keywords']:\n",
    "    if(not(pd.isnull(i))):\n",
    "        \n",
    "        Keywords_count.append(len(eval(i)))\n",
    "        \n",
    "    else:\n",
    "        Keywords_count.append(0)\n",
    "train['Keywords_count'] = Keywords_count\n",
    "\n",
    "sns.catplot(x='Keywords_count', y='revenue', data=train);\n",
    "plt.title('Omsetning sammenlignet med antall nøkkelord per film');"
   ]
  },
  {
   "cell_type": "markdown",
   "id": "b082d7a2-9e1a-40fd-bd69-5a5e900534c8",
   "metadata": {},
   "source": [
    "Vi mener det er bedre med en tellefunksjon over antall nøkkelord per film, fremfor å sammenligne med nøkkelordene."
   ]
  },
  {
   "cell_type": "code",
   "execution_count": 840,
   "id": "2a88eae8-a1bb-42b8-9451-415b081a5e14",
   "metadata": {},
   "outputs": [],
   "source": [
    "Keywords_count=[]\n",
    "for i in test['Keywords']:\n",
    "    if(not(pd.isnull(i))):\n",
    "        \n",
    "        Keywords_count.append(len(eval(i)))\n",
    "        \n",
    "    else:\n",
    "        Keywords_count.append(0)\n",
    "test['Keywords_count'] = Keywords_count"
   ]
  },
  {
   "cell_type": "code",
   "execution_count": 841,
   "id": "95a1772f-c6c3-4bd9-90fc-d8cf4dbec499",
   "metadata": {},
   "outputs": [],
   "source": [
    "train = train.drop(['Keywords'],axis=1)\n",
    "train = train.drop(['title'],axis=1)\n",
    "test = test.drop(['Keywords'],axis=1)\n",
    "test = test.drop(['title'],axis=1)"
   ]
  },
  {
   "cell_type": "markdown",
   "id": "a39dfff8-a48b-4bc7-9bf9-09b4d9f3f7c5",
   "metadata": {},
   "source": [
    "Dropper nøkkelord og tittel på film."
   ]
  },
  {
   "cell_type": "markdown",
   "id": "5c6050d3-775f-47f4-aeec-ed1d64ee919d",
   "metadata": {},
   "source": [
    "#### SPILLETID"
   ]
  },
  {
   "cell_type": "markdown",
   "id": "4eb0f44a-ff86-42c4-9373-6cf086b925e9",
   "metadata": {},
   "source": [
    "Spilletid har to null-verdier, løser dette problemet ved å gjøre dette om til gjennomsnittlig spilletid. De som mangler verdier fyller vi inn 0 fremfor null."
   ]
  },
  {
   "cell_type": "code",
   "execution_count": 842,
   "id": "31faf529-991f-4d7f-b938-4a3793e67c9b",
   "metadata": {},
   "outputs": [],
   "source": [
    "train['runtime'] = train['runtime'].fillna(train['runtime'].mean())\n",
    "test['runtime'] = test['runtime'].fillna(test['runtime'].mean())"
   ]
  },
  {
   "cell_type": "markdown",
   "id": "a7111a68-450b-41f8-b148-80ddceab05d6",
   "metadata": {},
   "source": [
    "#### SPRÅK"
   ]
  },
  {
   "cell_type": "code",
   "execution_count": 843,
   "id": "6191a525-a4f3-4989-a160-e37f3226ce6b",
   "metadata": {},
   "outputs": [],
   "source": [
    "spoken_count=[]\n",
    "for i in train['spoken_languages']:\n",
    "    if(not(pd.isnull(i))):\n",
    "        \n",
    "        spoken_count.append(len(eval(i)))\n",
    "        \n",
    "    else:\n",
    "        spoken_count.append(0)\n",
    "train['spoken_count'] = spoken_count\n",
    "\n",
    "\n",
    "spoken_count_test=[]\n",
    "for i in test['spoken_languages']:\n",
    "    if(not(pd.isnull(i))):\n",
    "        \n",
    "        spoken_count_test.append(len(eval(i)))\n",
    "        \n",
    "    else:\n",
    "        spoken_count_test.append(0)\n",
    "test['spoken_count'] = spoken_count_test"
   ]
  },
  {
   "cell_type": "markdown",
   "id": "fc54cb5d-c10b-43a0-99a5-abbff5771e21",
   "metadata": {},
   "source": [
    "Dropper den originale språk-attributten, da dette er en objekt-variabel."
   ]
  },
  {
   "cell_type": "code",
   "execution_count": 844,
   "id": "38a226df-1c1c-4578-bbad-302a255b369b",
   "metadata": {},
   "outputs": [],
   "source": [
    "train.drop(['spoken_languages'],axis=1,inplace=True)\n",
    "test.drop(['spoken_languages'],axis=1,inplace=True)"
   ]
  },
  {
   "cell_type": "markdown",
   "id": "55d34d48-3ce7-420d-8477-dc1893125cf4",
   "metadata": {},
   "source": [
    "### KORRELASJON"
   ]
  },
  {
   "cell_type": "markdown",
   "id": "66c6d4c6-e59c-4aa8-9599-b9d786107cdf",
   "metadata": {},
   "source": [
    "Nå som vi har renset mesteparten av dataen ved å fjerne null-verdier og gjøre om de fleste objekt-variabler til int-variabler, kan vi se nærmere på korrelasjon mellom relevante attributter."
   ]
  },
  {
   "cell_type": "code",
   "execution_count": 845,
   "id": "017a0f64-51ff-472c-80bc-b565cf1c9fc9",
   "metadata": {},
   "outputs": [
    {
     "data": {
      "text/plain": [
       "(<Figure size 720x576 with 1 Axes>, <AxesSubplot:>)"
      ]
     },
     "execution_count": 845,
     "metadata": {},
     "output_type": "execute_result"
    },
    {
     "data": {
      "text/plain": [
       "<AxesSubplot:>"
      ]
     },
     "execution_count": 845,
     "metadata": {},
     "output_type": "execute_result"
    },
    {
     "data": {
      "image/png": "[encoded data removed]",
      "text/plain": [
       "<Figure size 720x576 with 2 Axes>"
      ]
     },
     "metadata": {},
     "output_type": "display_data"
    }
   ],
   "source": [
    "col = ['revenue','budget','popularity','runtime']\n",
    "\n",
    "plt.subplots(figsize=(10, 8))\n",
    "\n",
    "corr = train[col].corr()\n",
    "\n",
    "sns.heatmap(corr, xticklabels=col,yticklabels=col, linewidths=.5, cmap=\"Reds\")"
   ]
  },
  {
   "cell_type": "markdown",
   "id": "a7be76b9-4496-426d-b937-8980d613c6b8",
   "metadata": {},
   "source": [
    "Plotter en visualisjon som tar for seg de variablene vi tenker er mest relevant, som er budsjett, omsetning, popularitet og spilletid. Vi merker oss at budsjett og omsetning har stor korrelasjon, og vil derfor ta en nærmere titt på dette nå."
   ]
  },
  {
   "cell_type": "code",
   "execution_count": 846,
   "id": "54055880-bba1-4538-bdf1-e5bdc081144e",
   "metadata": {},
   "outputs": [
    {
     "data": {
      "text/plain": [
       "<AxesSubplot:xlabel='budget', ylabel='revenue'>"
      ]
     },
     "execution_count": 846,
     "metadata": {},
     "output_type": "execute_result"
    },
    {
     "data": {
      "image/png": "[encoded data removed]",
      "text/plain": [
       "<Figure size 432x288 with 1 Axes>"
      ]
     },
     "metadata": {},
     "output_type": "display_data"
    }
   ],
   "source": [
    "sns.regplot(x=\"budget\", y=\"revenue\", data = train)"
   ]
  },
  {
   "cell_type": "markdown",
   "id": "9881196d-f3ee-4a5b-83db-a262af12857d",
   "metadata": {},
   "source": [
    "Vi ser at jo høyere budsjett som regel tilsvarer høyere omsetning."
   ]
  },
  {
   "cell_type": "code",
   "execution_count": 847,
   "id": "d4abc2b3-b5a4-4301-8efb-15c25a576f6f",
   "metadata": {},
   "outputs": [],
   "source": [
    "train['release_date'] = pd.to_datetime(train['release_date'])\n",
    "test['release_date'] = pd.to_datetime(test['release_date'])"
   ]
  },
  {
   "cell_type": "markdown",
   "id": "64f4e832-9188-41f9-9439-13c16c49eefe",
   "metadata": {},
   "source": [
    "Deretter ønsker vi å se på korrelasjon mellom utgivelsesdag og omsetning. I utgangspunktet kan vi ikke bruke den opprinnelige release_day attributten, ettersom noen av dataene ble tolket som fremtidige datoer."
   ]
  },
  {
   "cell_type": "code",
   "execution_count": 848,
   "id": "6c6a32cc-c25c-4828-a651-76c4c1bf4a02",
   "metadata": {},
   "outputs": [
    {
     "data": {
      "text/plain": [
       "<AxesSubplot:xlabel='release_date', ylabel='revenue'>"
      ]
     },
     "execution_count": 848,
     "metadata": {},
     "output_type": "execute_result"
    },
    {
     "data": {
      "image/png": "[encoded data removed]",
      "text/plain": [
       "<Figure size 432x288 with 1 Axes>"
      ]
     },
     "metadata": {},
     "output_type": "display_data"
    }
   ],
   "source": [
    "release_day = train['release_date'].value_counts().sort_index()\n",
    "release_day_revenue = train.groupby(['release_date'])['revenue'].sum()\n",
    "release_day_revenue.index = release_day_revenue.index.dayofweek\n",
    "sns.barplot(release_day_revenue.index,release_day_revenue, data = train,ci=None)\n",
    "plt.show()"
   ]
  },
  {
   "cell_type": "code",
   "execution_count": 849,
   "id": "3dcd5516-b87c-421d-8789-e13853a4a687",
   "metadata": {},
   "outputs": [],
   "source": [
    "train['release_day'] = train['release_date'].dt.dayofweek \n",
    "test['release_day'] = test['release_date'].dt.dayofweek "
   ]
  },
  {
   "cell_type": "markdown",
   "id": "77fb80cc-1b48-406a-86ee-4d964c102236",
   "metadata": {},
   "source": [
    "Legger til den modifiserte release_day attributten til test- og treningssettet vårt. Fyller deretter inn nuller der det trengs (i null-verdier) (null = 0)."
   ]
  },
  {
   "cell_type": "code",
   "execution_count": 850,
   "id": "85b76afd-8bf8-4272-a33d-6578cb7826d1",
   "metadata": {},
   "outputs": [],
   "source": [
    "test['release_day'] = test['release_day'].fillna(0)"
   ]
  },
  {
   "cell_type": "code",
   "execution_count": 851,
   "id": "e0feb0a9-6f9d-41c3-a5e3-c973ba74166c",
   "metadata": {},
   "outputs": [],
   "source": [
    "train.drop(['release_date'],axis=1,inplace=True)\n",
    "test.drop(['release_date'],axis=1,inplace=True)"
   ]
  },
  {
   "cell_type": "markdown",
   "id": "8bd009fa-ab07-4d31-8dec-a2018bfa9eb3",
   "metadata": {},
   "source": [
    "Dropper så release_day da denne nå er irrelevant."
   ]
  },
  {
   "cell_type": "code",
   "execution_count": 852,
   "id": "fc790324-5639-4f1f-aaa8-bc397f764efc",
   "metadata": {},
   "outputs": [
    {
     "name": "stdout",
     "output_type": "stream",
     "text": [
      "train data\n",
      "Released    2996\n",
      "Rumored        4\n",
      "Name: status, dtype: int64\n",
      "test data\n"
     ]
    },
    {
     "data": {
      "text/plain": [
       "Released           4389\n",
       "Post Production       5\n",
       "Rumored               2\n",
       "Name: status, dtype: int64"
      ]
     },
     "execution_count": 852,
     "metadata": {},
     "output_type": "execute_result"
    }
   ],
   "source": [
    "print(\"train data\")\n",
    "print(train['status'].value_counts())\n",
    "print(\"test data\")\n",
    "test['status'].value_counts()"
   ]
  },
  {
   "cell_type": "code",
   "execution_count": 853,
   "id": "aef9b865-6cca-4cbc-a1e1-6d85a2ee927d",
   "metadata": {},
   "outputs": [],
   "source": [
    "train.drop(['status'],axis=1,inplace =True)\n",
    "test.drop(['status'],axis=1,inplace =True)"
   ]
  },
  {
   "cell_type": "markdown",
   "id": "7b54eb29-e097-481d-be79-bb8c54ac1763",
   "metadata": {},
   "source": [
    "Etter å ha undersøkt status til filmen, konkluderer vi med at denne attributten heller ikke er relevant, og dropper derfor denne."
   ]
  },
  {
   "cell_type": "code",
   "execution_count": 854,
   "id": "730de8de-2ddd-4604-bec2-6bd5ad73022d",
   "metadata": {
    "tags": []
   },
   "outputs": [],
   "source": [
    "train.drop(['imdb_id','poster_path', 'original_title', 'tagline'],axis=1,inplace=True)\n",
    "test.drop(['imdb_id','poster_path', 'original_title', 'tagline'],axis=1,inplace=True)"
   ]
  },
  {
   "cell_type": "markdown",
   "id": "e91b74c6-c725-4abf-96b1-3d84d8ab2504",
   "metadata": {},
   "source": [
    "Til sist fjerner vi alle irrelevante attributter."
   ]
  },
  {
   "cell_type": "markdown",
   "id": "7157eedd-4d5c-4513-8a86-40bee28639d3",
   "metadata": {},
   "source": [
    "#### EN SISTE SJEKK"
   ]
  },
  {
   "cell_type": "code",
   "execution_count": 855,
   "id": "4ccb1de3-bbf7-411a-83d6-51cbad74218f",
   "metadata": {},
   "outputs": [
    {
     "name": "stdout",
     "output_type": "stream",
     "text": [
      "<class 'pandas.core.frame.DataFrame'>\n",
      "RangeIndex: 3000 entries, 0 to 2999\n",
      "Data columns (total 16 columns):\n",
      " #   Column              Non-Null Count  Dtype  \n",
      "---  ------              --------------  -----  \n",
      " 0   id                  3000 non-null   int64  \n",
      " 1   budget              3000 non-null   int64  \n",
      " 2   original_language   3000 non-null   int64  \n",
      " 3   popularity          3000 non-null   float64\n",
      " 4   runtime             3000 non-null   float64\n",
      " 5   revenue             3000 non-null   int64  \n",
      " 6   num_genres          3000 non-null   int64  \n",
      " 7   num_prod_companies  3000 non-null   int64  \n",
      " 8   num_prod_countries  3000 non-null   int64  \n",
      " 9   has_homepage        3000 non-null   int64  \n",
      " 10  collection          3000 non-null   int64  \n",
      " 11  cast_count          3000 non-null   int64  \n",
      " 12  crew_count          3000 non-null   int64  \n",
      " 13  Keywords_count      3000 non-null   int64  \n",
      " 14  spoken_count        3000 non-null   int64  \n",
      " 15  release_day         3000 non-null   int64  \n",
      "dtypes: float64(2), int64(14)\n",
      "memory usage: 375.1 KB\n"
     ]
    }
   ],
   "source": [
    "train.info()"
   ]
  },
  {
   "cell_type": "code",
   "execution_count": 856,
   "id": "13103be6-dfea-4ec4-966a-ba20045f6ccd",
   "metadata": {},
   "outputs": [
    {
     "name": "stdout",
     "output_type": "stream",
     "text": [
      "<class 'pandas.core.frame.DataFrame'>\n",
      "RangeIndex: 3000 entries, 0 to 2999\n",
      "Data columns (total 16 columns):\n",
      " #   Column              Non-Null Count  Dtype  \n",
      "---  ------              --------------  -----  \n",
      " 0   id                  3000 non-null   int64  \n",
      " 1   budget              3000 non-null   int64  \n",
      " 2   original_language   3000 non-null   int64  \n",
      " 3   popularity          3000 non-null   float64\n",
      " 4   runtime             3000 non-null   float64\n",
      " 5   revenue             3000 non-null   int64  \n",
      " 6   num_genres          3000 non-null   int64  \n",
      " 7   num_prod_companies  3000 non-null   int64  \n",
      " 8   num_prod_countries  3000 non-null   int64  \n",
      " 9   has_homepage        3000 non-null   int64  \n",
      " 10  collection          3000 non-null   int64  \n",
      " 11  cast_count          3000 non-null   int64  \n",
      " 12  crew_count          3000 non-null   int64  \n",
      " 13  Keywords_count      3000 non-null   int64  \n",
      " 14  spoken_count        3000 non-null   int64  \n",
      " 15  release_day         3000 non-null   int64  \n",
      "dtypes: float64(2), int64(14)\n",
      "memory usage: 375.1 KB\n"
     ]
    }
   ],
   "source": [
    "train.info()"
   ]
  },
  {
   "cell_type": "markdown",
   "id": "2c189e3f-540a-449b-acb7-b4f028b33014",
   "metadata": {},
   "source": [
    "Får en ny oversikt over null-verdiene og datatypene til attributtene våre, og er strålende fornøyd med egen innsats. Ser at ingen attributter nå har null-verdier, og det er ikke lenger objekter som datatyper."
   ]
  },
  {
   "cell_type": "markdown",
   "id": "1917647f-c4cb-48d0-8050-a0f424123f18",
   "metadata": {},
   "source": [
    "### Trening av modellen"
   ]
  },
  {
   "cell_type": "code",
   "execution_count": 857,
   "id": "2c58fa39-7c51-4c00-b2cd-c6d2cc4b61c8",
   "metadata": {},
   "outputs": [],
   "source": [
    "train['budget'] = np.log1p(train['budget'])\n",
    "test['budget'] = np.log1p(test['budget'])"
   ]
  },
  {
   "cell_type": "code",
   "execution_count": 858,
   "id": "e4e25a06-04f6-4e2c-bf06-6f77cb752eb6",
   "metadata": {
    "tags": []
   },
   "outputs": [],
   "source": [
    "y= train['revenue'].values\n",
    "cols = [col for col in train.columns if col not in ['revenue', 'id']]\n",
    "X= train[cols].values\n",
    "y = np.log1p(y)"
   ]
  },
  {
   "cell_type": "markdown",
   "id": "7578554b-4e11-49bb-9be8-f956a82db8b0",
   "metadata": {},
   "source": [
    "##### LINEÆR REGRESJON"
   ]
  },
  {
   "cell_type": "code",
   "execution_count": 859,
   "id": "732fb5d6-ee9c-47bf-8b9e-95eb848dbc31",
   "metadata": {},
   "outputs": [
    {
     "name": "stdout",
     "output_type": "stream",
     "text": [
      "2.443407870789952\n"
     ]
    }
   ],
   "source": [
    "from sklearn.linear_model import LinearRegression\n",
    "clf = LinearRegression()\n",
    "scores = cross_val_score(clf, X, y, scoring=\"neg_mean_squared_error\", cv = 8)\n",
    "rmse_scores = np.sqrt(-scores)\n",
    "print(rmse_scores.mean())"
   ]
  },
  {
   "cell_type": "markdown",
   "id": "4a91c696-5dba-4163-82c4-873c34af8bcf",
   "metadata": {},
   "source": [
    "##### RANDOM FOREST GENERATOR"
   ]
  },
  {
   "cell_type": "code",
   "execution_count": 860,
   "id": "b21bada9-4809-4740-ba56-53badd84226d",
   "metadata": {},
   "outputs": [
    {
     "name": "stdout",
     "output_type": "stream",
     "text": [
      "2.21926471526332\n"
     ]
    }
   ],
   "source": [
    "from sklearn.ensemble import RandomForestRegressor\n",
    "regr = RandomForestRegressor(max_depth=10, min_samples_split=5, random_state = 10,\n",
    "                             n_estimators=500)\n",
    "scores = cross_val_score(regr, X, y, scoring=\"neg_mean_squared_error\", cv = 10)\n",
    "rmse_scores = np.sqrt(-scores)\n",
    "print(rmse_scores.mean())"
   ]
  },
  {
   "cell_type": "markdown",
   "id": "d2eb97e5-94f1-490c-b726-2e2153c46519",
   "metadata": {},
   "source": [
    "Nå skal vi teste modellen"
   ]
  },
  {
   "cell_type": "code",
   "execution_count": 861,
   "id": "8f6da9e1-9bc5-4a04-a291-0279245b4675",
   "metadata": {},
   "outputs": [],
   "source": [
    "cols = [col for col in test.columns if col not in ['id']]\n",
    "X_test= test[cols].values"
   ]
  },
  {
   "cell_type": "code",
   "execution_count": 862,
   "id": "e0b5f8d2-fe4d-4b50-a160-8b5565726315",
   "metadata": {},
   "outputs": [
    {
     "data": {
      "text/plain": [
       "RandomForestRegressor(max_depth=10, min_samples_split=5, n_estimators=500,\n",
       "                      random_state=10)"
      ]
     },
     "execution_count": 862,
     "metadata": {},
     "output_type": "execute_result"
    }
   ],
   "source": [
    "regr.fit(X,y)\n",
    "y_pred = regr.predict(X_test)"
   ]
  },
  {
   "cell_type": "code",
   "execution_count": 863,
   "id": "7a12a40a-f88a-4c7f-87f5-b3ef382c3a3c",
   "metadata": {},
   "outputs": [],
   "source": [
    "y_pred=np.expm1(y_pred)\n",
    "pd.DataFrame({'id': test.id, 'revenue': y_pred}).to_csv('submission_RF.csv', index=False)"
   ]
  },
  {
   "cell_type": "markdown",
   "id": "189699c2-d340-4bc1-a8fc-cf9947bae49b",
   "metadata": {},
   "source": [
    "Dette gikk fint."
   ]
  }
 ],
 "metadata": {
  "kernelspec": {
   "display_name": "dat158",
   "language": "python",
   "name": "dat158"
  },
  "language_info": {
   "codemirror_mode": {
    "name": "ipython",
    "version": 3
   },
   "file_extension": ".py",
   "mimetype": "text/x-python",
   "name": "python",
   "nbconvert_exporter": "python",
   "pygments_lexer": "ipython3",
   "version": "3.9.6"
  }
 },
 "nbformat": 4,
 "nbformat_minor": 5
}
